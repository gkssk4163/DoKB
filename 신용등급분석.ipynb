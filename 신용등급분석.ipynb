{
 "cells": [
  {
   "cell_type": "code",
   "execution_count": 1,
   "id": "52676949",
   "metadata": {},
   "outputs": [],
   "source": [
    "import numpy as np\n",
    "import pandas as pd\n",
    "import seaborn as sns\n",
    "import matplotlib.pyplot as plt"
   ]
  },
  {
   "cell_type": "code",
   "execution_count": 2,
   "id": "b376fdc2",
   "metadata": {},
   "outputs": [],
   "source": [
    "data1 = pd.read_csv(\"../data/train.csv\")"
   ]
  },
  {
   "cell_type": "code",
   "execution_count": 3,
   "id": "f0f1b5bb",
   "metadata": {},
   "outputs": [],
   "source": [
    "data2 =pd.read_csv(\"../data/test.csv\")"
   ]
  },
  {
   "cell_type": "code",
   "execution_count": 4,
   "id": "fa64aea3",
   "metadata": {},
   "outputs": [],
   "source": [
    "data = pd.concat([data1,data2],axis=0)"
   ]
  },
  {
   "cell_type": "code",
   "execution_count": 5,
   "id": "20d2e6a4",
   "metadata": {
    "scrolled": true
   },
   "outputs": [
    {
     "data": {
      "text/plain": [
       "(36457, 20)"
      ]
     },
     "execution_count": 5,
     "metadata": {},
     "output_type": "execute_result"
    }
   ],
   "source": [
    "data.shape"
   ]
  },
  {
   "cell_type": "code",
   "execution_count": 6,
   "id": "84a1da84",
   "metadata": {},
   "outputs": [
    {
     "data": {
      "text/plain": [
       "(36457, 20)"
      ]
     },
     "execution_count": 6,
     "metadata": {},
     "output_type": "execute_result"
    }
   ],
   "source": [
    "data.shape"
   ]
  },
  {
   "cell_type": "code",
   "execution_count": 7,
   "id": "0399e6c7",
   "metadata": {},
   "outputs": [
    {
     "data": {
      "text/plain": [
       "index                0\n",
       "gender               0\n",
       "car                  0\n",
       "reality              0\n",
       "child_num            0\n",
       "income_total         0\n",
       "income_type          0\n",
       "edu_type             0\n",
       "family_type          0\n",
       "house_type           0\n",
       "DAYS_BIRTH           0\n",
       "DAYS_EMPLOYED        0\n",
       "FLAG_MOBIL           0\n",
       "work_phone           0\n",
       "phone                0\n",
       "email                0\n",
       "occyp_type       11323\n",
       "family_size          0\n",
       "begin_month          0\n",
       "credit           10000\n",
       "dtype: int64"
      ]
     },
     "execution_count": 7,
     "metadata": {},
     "output_type": "execute_result"
    }
   ],
   "source": [
    "data.isnull().sum()"
   ]
  },
  {
   "cell_type": "markdown",
   "id": "3b23d4cd",
   "metadata": {},
   "source": [
    "컬럼(columns) 설명  \n",
    "index  \n",
    "gender: 성별  \n",
    "car: 차량 소유 여부  \n",
    "reality: 부동산 소유 여부  \n",
    "child_num: 자녀 수  \n",
    "income_total: 연간 소득  \n",
    "income_type: 소득 분류  \n",
    "'Commercial associate', 'Working', 'State servant', 'Pensioner', 'Student'  \n",
    "edu_type: 교육 수준  \n",
    "'Higher education' ,'Secondary / secondary special', 'Incomplete higher', 'Lower secondary', 'Academic degree'  \n",
    "family_type: 결혼 여부  \n",
    "'Married', 'Civil marriage', 'Separated', 'Single / not married', 'Widow'  \n",
    "house_type: 생활 방식  \n",
    "'Municipal apartment', 'House / apartment', 'With parents', 'Co-op apartment', 'Rented apartment', 'Office apartment'  \n",
    "DAYS_BIRTH: 출생일  \n",
    "데이터 수집 당시 (0)부터 역으로 셈, 즉, -1은 데이터 수집일 하루 전에 태어났음을 의미  \n",
    "DAYS_EMPLOYED: 업무 시작일  \n",
    "데이터 수집 당시 (0)부터 역으로 셈, 즉, -1은 데이터 수집일 하루 전부터 일을 시작함을 의미  \n",
    "양수 값은 고용되지 않은 상태를 의미함  \n",
    "FLAG_MOBIL: 핸드폰 소유 여부  \n",
    "work_phone: 업무용 전화 소유 여부  \n",
    "phone: 전화 소유 여부  \n",
    "email: 이메일 소유 여부  \n",
    "occyp_type: 직업 유형  \n",
    "family_size: 가족 규모  \n",
    "begin_month: 신용카드 발급 월  \n",
    "데이터 수집 당시 (0)부터 역으로 셈, 즉, -1은 데이터 수집일 한 달 전에 신용카드를 발급함을 의미  \n",
    "credit : 사용자의 신용카드 대금 연체를 기준으로 한 신용도 (y 값으로 사용)  \n",
    "낮을 수록 높은 신용의 신용카드 사용자를 의미함  "
   ]
  },
  {
   "cell_type": "code",
   "execution_count": 8,
   "id": "b7445dfe",
   "metadata": {
    "scrolled": true
   },
   "outputs": [
    {
     "data": {
      "text/html": [
       "<div>\n",
       "<style scoped>\n",
       "    .dataframe tbody tr th:only-of-type {\n",
       "        vertical-align: middle;\n",
       "    }\n",
       "\n",
       "    .dataframe tbody tr th {\n",
       "        vertical-align: top;\n",
       "    }\n",
       "\n",
       "    .dataframe thead th {\n",
       "        text-align: right;\n",
       "    }\n",
       "</style>\n",
       "<table border=\"1\" class=\"dataframe\">\n",
       "  <thead>\n",
       "    <tr style=\"text-align: right;\">\n",
       "      <th></th>\n",
       "      <th>index</th>\n",
       "      <th>child_num</th>\n",
       "      <th>income_total</th>\n",
       "      <th>DAYS_BIRTH</th>\n",
       "      <th>DAYS_EMPLOYED</th>\n",
       "      <th>FLAG_MOBIL</th>\n",
       "      <th>work_phone</th>\n",
       "      <th>phone</th>\n",
       "      <th>email</th>\n",
       "      <th>family_size</th>\n",
       "      <th>begin_month</th>\n",
       "      <th>credit</th>\n",
       "    </tr>\n",
       "  </thead>\n",
       "  <tbody>\n",
       "    <tr>\n",
       "      <th>count</th>\n",
       "      <td>36457.000000</td>\n",
       "      <td>36457.000000</td>\n",
       "      <td>3.645700e+04</td>\n",
       "      <td>36457.000000</td>\n",
       "      <td>36457.000000</td>\n",
       "      <td>36457.0</td>\n",
       "      <td>36457.000000</td>\n",
       "      <td>36457.000000</td>\n",
       "      <td>36457.000000</td>\n",
       "      <td>36457.000000</td>\n",
       "      <td>36457.000000</td>\n",
       "      <td>26457.000000</td>\n",
       "    </tr>\n",
       "    <tr>\n",
       "      <th>mean</th>\n",
       "      <td>18228.000000</td>\n",
       "      <td>0.430315</td>\n",
       "      <td>1.866857e+05</td>\n",
       "      <td>-15975.173382</td>\n",
       "      <td>59262.935568</td>\n",
       "      <td>1.0</td>\n",
       "      <td>0.225526</td>\n",
       "      <td>0.294813</td>\n",
       "      <td>0.089722</td>\n",
       "      <td>2.198453</td>\n",
       "      <td>-26.164193</td>\n",
       "      <td>1.519560</td>\n",
       "    </tr>\n",
       "    <tr>\n",
       "      <th>std</th>\n",
       "      <td>10524.373719</td>\n",
       "      <td>0.742367</td>\n",
       "      <td>1.017892e+05</td>\n",
       "      <td>4200.549944</td>\n",
       "      <td>137651.334859</td>\n",
       "      <td>0.0</td>\n",
       "      <td>0.417934</td>\n",
       "      <td>0.455965</td>\n",
       "      <td>0.285787</td>\n",
       "      <td>0.911686</td>\n",
       "      <td>16.501854</td>\n",
       "      <td>0.702283</td>\n",
       "    </tr>\n",
       "    <tr>\n",
       "      <th>min</th>\n",
       "      <td>0.000000</td>\n",
       "      <td>0.000000</td>\n",
       "      <td>2.700000e+04</td>\n",
       "      <td>-25152.000000</td>\n",
       "      <td>-15713.000000</td>\n",
       "      <td>1.0</td>\n",
       "      <td>0.000000</td>\n",
       "      <td>0.000000</td>\n",
       "      <td>0.000000</td>\n",
       "      <td>1.000000</td>\n",
       "      <td>-60.000000</td>\n",
       "      <td>0.000000</td>\n",
       "    </tr>\n",
       "    <tr>\n",
       "      <th>25%</th>\n",
       "      <td>9114.000000</td>\n",
       "      <td>0.000000</td>\n",
       "      <td>1.215000e+05</td>\n",
       "      <td>-19438.000000</td>\n",
       "      <td>-3153.000000</td>\n",
       "      <td>1.0</td>\n",
       "      <td>0.000000</td>\n",
       "      <td>0.000000</td>\n",
       "      <td>0.000000</td>\n",
       "      <td>2.000000</td>\n",
       "      <td>-39.000000</td>\n",
       "      <td>1.000000</td>\n",
       "    </tr>\n",
       "    <tr>\n",
       "      <th>50%</th>\n",
       "      <td>18228.000000</td>\n",
       "      <td>0.000000</td>\n",
       "      <td>1.575000e+05</td>\n",
       "      <td>-15563.000000</td>\n",
       "      <td>-1552.000000</td>\n",
       "      <td>1.0</td>\n",
       "      <td>0.000000</td>\n",
       "      <td>0.000000</td>\n",
       "      <td>0.000000</td>\n",
       "      <td>2.000000</td>\n",
       "      <td>-24.000000</td>\n",
       "      <td>2.000000</td>\n",
       "    </tr>\n",
       "    <tr>\n",
       "      <th>75%</th>\n",
       "      <td>27342.000000</td>\n",
       "      <td>1.000000</td>\n",
       "      <td>2.250000e+05</td>\n",
       "      <td>-12462.000000</td>\n",
       "      <td>-408.000000</td>\n",
       "      <td>1.0</td>\n",
       "      <td>0.000000</td>\n",
       "      <td>1.000000</td>\n",
       "      <td>0.000000</td>\n",
       "      <td>3.000000</td>\n",
       "      <td>-12.000000</td>\n",
       "      <td>2.000000</td>\n",
       "    </tr>\n",
       "    <tr>\n",
       "      <th>max</th>\n",
       "      <td>36456.000000</td>\n",
       "      <td>19.000000</td>\n",
       "      <td>1.575000e+06</td>\n",
       "      <td>-7489.000000</td>\n",
       "      <td>365243.000000</td>\n",
       "      <td>1.0</td>\n",
       "      <td>1.000000</td>\n",
       "      <td>1.000000</td>\n",
       "      <td>1.000000</td>\n",
       "      <td>20.000000</td>\n",
       "      <td>0.000000</td>\n",
       "      <td>2.000000</td>\n",
       "    </tr>\n",
       "  </tbody>\n",
       "</table>\n",
       "</div>"
      ],
      "text/plain": [
       "              index     child_num  income_total    DAYS_BIRTH  DAYS_EMPLOYED  \\\n",
       "count  36457.000000  36457.000000  3.645700e+04  36457.000000   36457.000000   \n",
       "mean   18228.000000      0.430315  1.866857e+05 -15975.173382   59262.935568   \n",
       "std    10524.373719      0.742367  1.017892e+05   4200.549944  137651.334859   \n",
       "min        0.000000      0.000000  2.700000e+04 -25152.000000  -15713.000000   \n",
       "25%     9114.000000      0.000000  1.215000e+05 -19438.000000   -3153.000000   \n",
       "50%    18228.000000      0.000000  1.575000e+05 -15563.000000   -1552.000000   \n",
       "75%    27342.000000      1.000000  2.250000e+05 -12462.000000    -408.000000   \n",
       "max    36456.000000     19.000000  1.575000e+06  -7489.000000  365243.000000   \n",
       "\n",
       "       FLAG_MOBIL    work_phone         phone         email   family_size  \\\n",
       "count     36457.0  36457.000000  36457.000000  36457.000000  36457.000000   \n",
       "mean          1.0      0.225526      0.294813      0.089722      2.198453   \n",
       "std           0.0      0.417934      0.455965      0.285787      0.911686   \n",
       "min           1.0      0.000000      0.000000      0.000000      1.000000   \n",
       "25%           1.0      0.000000      0.000000      0.000000      2.000000   \n",
       "50%           1.0      0.000000      0.000000      0.000000      2.000000   \n",
       "75%           1.0      0.000000      1.000000      0.000000      3.000000   \n",
       "max           1.0      1.000000      1.000000      1.000000     20.000000   \n",
       "\n",
       "        begin_month        credit  \n",
       "count  36457.000000  26457.000000  \n",
       "mean     -26.164193      1.519560  \n",
       "std       16.501854      0.702283  \n",
       "min      -60.000000      0.000000  \n",
       "25%      -39.000000      1.000000  \n",
       "50%      -24.000000      2.000000  \n",
       "75%      -12.000000      2.000000  \n",
       "max        0.000000      2.000000  "
      ]
     },
     "execution_count": 8,
     "metadata": {},
     "output_type": "execute_result"
    }
   ],
   "source": [
    "data.describe()"
   ]
  },
  {
   "cell_type": "code",
   "execution_count": 9,
   "id": "167c919c",
   "metadata": {
    "scrolled": true
   },
   "outputs": [
    {
     "name": "stdout",
     "output_type": "stream",
     "text": [
      "<class 'pandas.core.frame.DataFrame'>\n",
      "Int64Index: 36457 entries, 0 to 9999\n",
      "Data columns (total 20 columns):\n",
      " #   Column         Non-Null Count  Dtype  \n",
      "---  ------         --------------  -----  \n",
      " 0   index          36457 non-null  int64  \n",
      " 1   gender         36457 non-null  object \n",
      " 2   car            36457 non-null  object \n",
      " 3   reality        36457 non-null  object \n",
      " 4   child_num      36457 non-null  int64  \n",
      " 5   income_total   36457 non-null  float64\n",
      " 6   income_type    36457 non-null  object \n",
      " 7   edu_type       36457 non-null  object \n",
      " 8   family_type    36457 non-null  object \n",
      " 9   house_type     36457 non-null  object \n",
      " 10  DAYS_BIRTH     36457 non-null  int64  \n",
      " 11  DAYS_EMPLOYED  36457 non-null  int64  \n",
      " 12  FLAG_MOBIL     36457 non-null  int64  \n",
      " 13  work_phone     36457 non-null  int64  \n",
      " 14  phone          36457 non-null  int64  \n",
      " 15  email          36457 non-null  int64  \n",
      " 16  occyp_type     25134 non-null  object \n",
      " 17  family_size    36457 non-null  float64\n",
      " 18  begin_month    36457 non-null  float64\n",
      " 19  credit         26457 non-null  float64\n",
      "dtypes: float64(4), int64(8), object(8)\n",
      "memory usage: 5.8+ MB\n"
     ]
    }
   ],
   "source": [
    "data.info()"
   ]
  },
  {
   "cell_type": "code",
   "execution_count": 10,
   "id": "3418eeba",
   "metadata": {},
   "outputs": [],
   "source": [
    "data = data.drop(columns=['index', 'FLAG_MOBIL'])"
   ]
  },
  {
   "cell_type": "code",
   "execution_count": 11,
   "id": "f65e1afc",
   "metadata": {
    "scrolled": true
   },
   "outputs": [
    {
     "data": {
      "text/plain": [
       "gender  credit\n",
       "F       0.0        2148\n",
       "        1.0        4220\n",
       "        2.0       11329\n",
       "M       0.0        1074\n",
       "        1.0        2047\n",
       "        2.0        5639\n",
       "Name: credit, dtype: int64"
      ]
     },
     "execution_count": 11,
     "metadata": {},
     "output_type": "execute_result"
    }
   ],
   "source": [
    "data.groupby(['gender','credit'])['credit'].count()"
   ]
  },
  {
   "cell_type": "code",
   "execution_count": 12,
   "id": "fa7b2092",
   "metadata": {},
   "outputs": [
    {
     "data": {
      "text/plain": [
       "car  credit\n",
       "N    0.0        1982\n",
       "     1.0        3990\n",
       "     2.0       10438\n",
       "Y    0.0        1240\n",
       "     1.0        2277\n",
       "     2.0        6530\n",
       "Name: credit, dtype: int64"
      ]
     },
     "execution_count": 12,
     "metadata": {},
     "output_type": "execute_result"
    }
   ],
   "source": [
    "data.groupby(['car','credit'])['credit'].count()"
   ]
  },
  {
   "cell_type": "code",
   "execution_count": 13,
   "id": "acdc51c3",
   "metadata": {},
   "outputs": [
    {
     "data": {
      "text/plain": [
       "reality  credit\n",
       "N        0.0        1064\n",
       "         1.0        1935\n",
       "         2.0        5628\n",
       "Y        0.0        2158\n",
       "         1.0        4332\n",
       "         2.0       11340\n",
       "Name: credit, dtype: int64"
      ]
     },
     "execution_count": 13,
     "metadata": {},
     "output_type": "execute_result"
    }
   ],
   "source": [
    "data.groupby(['reality','credit'])['credit'].count()"
   ]
  },
  {
   "cell_type": "code",
   "execution_count": 14,
   "id": "f4a0688c",
   "metadata": {},
   "outputs": [
    {
     "data": {
      "text/plain": [
       "income_type           credit\n",
       "Commercial associate  0.0        782\n",
       "                      1.0       1344\n",
       "                      2.0       4076\n",
       "Pensioner             0.0        536\n",
       "                      1.0       1084\n",
       "                      2.0       2829\n",
       "State servant         0.0        265\n",
       "                      1.0        489\n",
       "                      2.0       1400\n",
       "Student               1.0          3\n",
       "                      2.0          4\n",
       "Working               0.0       1639\n",
       "                      1.0       3347\n",
       "                      2.0       8659\n",
       "Name: credit, dtype: int64"
      ]
     },
     "execution_count": 14,
     "metadata": {},
     "output_type": "execute_result"
    }
   ],
   "source": [
    "data.groupby(['income_type','credit'])['credit'].count()"
   ]
  },
  {
   "cell_type": "code",
   "execution_count": 15,
   "id": "a43b44a5",
   "metadata": {},
   "outputs": [
    {
     "data": {
      "text/plain": [
       "edu_type                       credit\n",
       "Academic degree                0.0           2\n",
       "                               1.0           7\n",
       "                               2.0          14\n",
       "Higher education               0.0         909\n",
       "                               1.0        1751\n",
       "                               2.0        4502\n",
       "Incomplete higher              0.0         114\n",
       "                               1.0         246\n",
       "                               2.0         660\n",
       "Lower secondary                0.0          28\n",
       "                               1.0          59\n",
       "                               2.0         170\n",
       "Secondary / secondary special  0.0        2169\n",
       "                               1.0        4204\n",
       "                               2.0       11622\n",
       "Name: credit, dtype: int64"
      ]
     },
     "execution_count": 15,
     "metadata": {},
     "output_type": "execute_result"
    }
   ],
   "source": [
    "data.groupby(['edu_type','credit'])['credit'].count()"
   ]
  },
  {
   "cell_type": "code",
   "execution_count": 16,
   "id": "c2299faf",
   "metadata": {},
   "outputs": [
    {
     "data": {
      "text/plain": [
       "family_type           credit\n",
       "Civil marriage        0.0         288\n",
       "                      1.0         539\n",
       "                      2.0        1296\n",
       "Married               0.0        2213\n",
       "                      1.0        4140\n",
       "                      2.0       11843\n",
       "Separated             0.0         193\n",
       "                      1.0         349\n",
       "                      2.0         997\n",
       "Single / not married  0.0         402\n",
       "                      1.0         940\n",
       "                      2.0        2154\n",
       "Widow                 0.0         126\n",
       "                      1.0         299\n",
       "                      2.0         678\n",
       "Name: credit, dtype: int64"
      ]
     },
     "execution_count": 16,
     "metadata": {},
     "output_type": "execute_result"
    }
   ],
   "source": [
    "data.groupby(['family_type','credit'])['credit'].count()"
   ]
  },
  {
   "cell_type": "markdown",
   "id": "0ca11ca9",
   "metadata": {},
   "source": [
    "data.groupby(['reality','credit'])['credit'].count()"
   ]
  },
  {
   "cell_type": "code",
   "execution_count": 17,
   "id": "28a44b1a",
   "metadata": {
    "scrolled": false
   },
   "outputs": [
    {
     "data": {
      "text/plain": [
       "array(['Higher education', 'Secondary / secondary special',\n",
       "       'Incomplete higher', 'Lower secondary', 'Academic degree'],\n",
       "      dtype=object)"
      ]
     },
     "execution_count": 17,
     "metadata": {},
     "output_type": "execute_result"
    }
   ],
   "source": [
    "data['edu_type'].unique()"
   ]
  },
  {
   "cell_type": "markdown",
   "id": "21b4445e",
   "metadata": {},
   "source": [
    "# child_num 이상치 변경"
   ]
  },
  {
   "cell_type": "code",
   "execution_count": 18,
   "id": "9bed6689",
   "metadata": {},
   "outputs": [
    {
     "data": {
      "text/plain": [
       "0     25201\n",
       "1      7492\n",
       "2      3256\n",
       "3       419\n",
       "4        63\n",
       "5        20\n",
       "14        3\n",
       "7         2\n",
       "19        1\n",
       "Name: child_num, dtype: int64"
      ]
     },
     "execution_count": 18,
     "metadata": {},
     "output_type": "execute_result"
    }
   ],
   "source": [
    "data['child_num'].value_counts()"
   ]
  },
  {
   "cell_type": "code",
   "execution_count": 19,
   "id": "e7fde793",
   "metadata": {},
   "outputs": [
    {
     "data": {
      "text/plain": [
       "0    25201\n",
       "1     7492\n",
       "2     3256\n",
       "3      419\n",
       "Name: child_num, dtype: int64"
      ]
     },
     "execution_count": 19,
     "metadata": {},
     "output_type": "execute_result"
    }
   ],
   "source": [
    "data = data[data['child_num'] <= 3]\n",
    "data['child_num'].value_counts()"
   ]
  },
  {
   "cell_type": "code",
   "execution_count": 20,
   "id": "9d6ef233",
   "metadata": {
    "scrolled": true
   },
   "outputs": [
    {
     "data": {
      "text/plain": [
       "0    25201\n",
       "1     7492\n",
       "2     3256\n",
       "3      419\n",
       "Name: child_num, dtype: int64"
      ]
     },
     "execution_count": 20,
     "metadata": {},
     "output_type": "execute_result"
    }
   ],
   "source": [
    "data['child_num'].value_counts()"
   ]
  },
  {
   "cell_type": "code",
   "execution_count": null,
   "id": "892afe90",
   "metadata": {},
   "outputs": [],
   "source": []
  },
  {
   "cell_type": "markdown",
   "id": "5c03d10b",
   "metadata": {},
   "source": [
    "# Binary \n",
    "- gender\n",
    "- car\n",
    "- reality"
   ]
  },
  {
   "cell_type": "markdown",
   "id": "38c2a411",
   "metadata": {},
   "source": [
    "## gender"
   ]
  },
  {
   "cell_type": "code",
   "execution_count": 21,
   "id": "d316e89b",
   "metadata": {},
   "outputs": [
    {
     "data": {
      "text/plain": [
       "0    24369\n",
       "1    11999\n",
       "Name: gender, dtype: int64"
      ]
     },
     "execution_count": 21,
     "metadata": {},
     "output_type": "execute_result"
    }
   ],
   "source": [
    "data['gender'] = data['gender'].replace({'F' : 0, 'M' : 1})\n",
    "data['gender'].value_counts()"
   ]
  },
  {
   "cell_type": "markdown",
   "id": "af26172d",
   "metadata": {},
   "source": [
    "## car"
   ]
  },
  {
   "cell_type": "code",
   "execution_count": 22,
   "id": "1f73ce50",
   "metadata": {},
   "outputs": [
    {
     "data": {
      "text/plain": [
       "0    22587\n",
       "1    13781\n",
       "Name: car, dtype: int64"
      ]
     },
     "execution_count": 22,
     "metadata": {},
     "output_type": "execute_result"
    }
   ],
   "source": [
    "data['car'] = data['car'].replace({'N' : 0, 'Y' : 1})\n",
    "data['car'].value_counts()"
   ]
  },
  {
   "cell_type": "markdown",
   "id": "a78fb2d5",
   "metadata": {},
   "source": [
    "## reality"
   ]
  },
  {
   "cell_type": "code",
   "execution_count": 23,
   "id": "3e482ab2",
   "metadata": {},
   "outputs": [
    {
     "data": {
      "text/plain": [
       "1    24443\n",
       "0    11925\n",
       "Name: reality, dtype: int64"
      ]
     },
     "execution_count": 23,
     "metadata": {},
     "output_type": "execute_result"
    }
   ],
   "source": [
    "data['reality'] = data['reality'].replace({'N' : 0, 'Y' : 1})\n",
    "data['reality'].value_counts()"
   ]
  },
  {
   "cell_type": "markdown",
   "id": "496038eb",
   "metadata": {},
   "source": [
    "# Categorical variables\n",
    "- income_type\n",
    "- edu_type\n",
    "- family_type\n",
    "- house_type"
   ]
  },
  {
   "cell_type": "code",
   "execution_count": 24,
   "id": "5362b31c",
   "metadata": {},
   "outputs": [
    {
     "data": {
      "text/plain": [
       "Working                 18755\n",
       "Commercial associate     8477\n",
       "Pensioner                6152\n",
       "State servant            2973\n",
       "Student                    11\n",
       "Name: income_type, dtype: int64"
      ]
     },
     "execution_count": 24,
     "metadata": {},
     "output_type": "execute_result"
    }
   ],
   "source": [
    "data['income_type'].value_counts()"
   ]
  },
  {
   "cell_type": "code",
   "execution_count": 25,
   "id": "4b899d0d",
   "metadata": {},
   "outputs": [
    {
     "data": {
      "text/plain": [
       "Secondary / secondary special    24714\n",
       "Higher education                  9845\n",
       "Incomplete higher                 1404\n",
       "Lower secondary                    373\n",
       "Academic degree                     32\n",
       "Name: edu_type, dtype: int64"
      ]
     },
     "execution_count": 25,
     "metadata": {},
     "output_type": "execute_result"
    }
   ],
   "source": [
    "data['edu_type'].value_counts()"
   ]
  },
  {
   "cell_type": "code",
   "execution_count": 26,
   "id": "97322775",
   "metadata": {},
   "outputs": [
    {
     "data": {
      "text/plain": [
       "Married                 24970\n",
       "Single / not married     4828\n",
       "Civil marriage           2945\n",
       "Separated                2093\n",
       "Widow                    1532\n",
       "Name: family_type, dtype: int64"
      ]
     },
     "execution_count": 26,
     "metadata": {},
     "output_type": "execute_result"
    }
   ],
   "source": [
    "data['family_type'].value_counts()"
   ]
  },
  {
   "cell_type": "code",
   "execution_count": 27,
   "id": "57dfcc56",
   "metadata": {},
   "outputs": [
    {
     "data": {
      "text/plain": [
       "House / apartment      32467\n",
       "With parents            1776\n",
       "Municipal apartment     1128\n",
       "Rented apartment         575\n",
       "Office apartment         262\n",
       "Co-op apartment          160\n",
       "Name: house_type, dtype: int64"
      ]
     },
     "execution_count": 27,
     "metadata": {},
     "output_type": "execute_result"
    }
   ],
   "source": [
    "data['house_type'].value_counts()"
   ]
  },
  {
   "cell_type": "code",
   "execution_count": 28,
   "id": "6e80c08e",
   "metadata": {},
   "outputs": [],
   "source": [
    "#data = pd.get_dummies(data, columns = ['income_type', 'edu_type', 'family_type', 'house_type'])\n",
    "#data.head()"
   ]
  },
  {
   "cell_type": "markdown",
   "id": "adc786bf",
   "metadata": {},
   "source": [
    "# Continuous variables\n",
    "- DAYS_BIRTH\n",
    "- DAYS_EMPLOYED\n",
    "- begin_month"
   ]
  },
  {
   "cell_type": "markdown",
   "id": "3ae4161d",
   "metadata": {},
   "source": [
    "아직 직장이 없는 사람들의 인덱스 번호"
   ]
  },
  {
   "cell_type": "code",
   "execution_count": 29,
   "id": "5f0c6b6d",
   "metadata": {},
   "outputs": [
    {
     "data": {
      "text/plain": [
       "Int64Index([  14,   18,   21,   24,   46,   48,   52,   58,   59,   60,\n",
       "            ...\n",
       "            9946, 9951, 9953, 9954, 9967, 9968, 9981, 9988, 9992, 9994],\n",
       "           dtype='int64', length=6135)"
      ]
     },
     "execution_count": 29,
     "metadata": {},
     "output_type": "execute_result"
    }
   ],
   "source": [
    "idx = data[data['DAYS_EMPLOYED'] > 0].index\n",
    "idx"
   ]
  },
  {
   "cell_type": "markdown",
   "id": "63152d94",
   "metadata": {},
   "source": [
    "직장이 있는 사람은 1 직장이 없는 사람은 0"
   ]
  },
  {
   "cell_type": "code",
   "execution_count": 30,
   "id": "61d31e91",
   "metadata": {
    "scrolled": true
   },
   "outputs": [
    {
     "data": {
      "text/plain": [
       "1    27459\n",
       "0     8909\n",
       "Name: working, dtype: int64"
      ]
     },
     "execution_count": 30,
     "metadata": {},
     "output_type": "execute_result"
    }
   ],
   "source": [
    "data['working'] = 1\n",
    "data.loc[idx, 'working'] = 0\n",
    "\n",
    "# 'working' 열의 빈도수를 구하세요.\n",
    "data['working'].value_counts()"
   ]
  },
  {
   "cell_type": "code",
   "execution_count": 31,
   "id": "fce710a9",
   "metadata": {
    "scrolled": false
   },
   "outputs": [],
   "source": [
    "data = data[data['working']==1]"
   ]
  },
  {
   "cell_type": "code",
   "execution_count": 32,
   "id": "28a76ab5",
   "metadata": {
    "scrolled": true
   },
   "outputs": [],
   "source": [
    "data['occyp_type'].fillna('no_working',inplace = True)"
   ]
  },
  {
   "cell_type": "code",
   "execution_count": 33,
   "id": "9838c5e7",
   "metadata": {},
   "outputs": [
    {
     "data": {
      "text/plain": [
       "gender              0\n",
       "car                 0\n",
       "reality             0\n",
       "child_num           0\n",
       "income_total        0\n",
       "income_type         0\n",
       "edu_type            0\n",
       "family_type         0\n",
       "house_type          0\n",
       "DAYS_BIRTH          0\n",
       "DAYS_EMPLOYED       0\n",
       "work_phone          0\n",
       "phone               0\n",
       "email               0\n",
       "occyp_type          0\n",
       "family_size         0\n",
       "begin_month         0\n",
       "credit           6920\n",
       "working             0\n",
       "dtype: int64"
      ]
     },
     "execution_count": 33,
     "metadata": {},
     "output_type": "execute_result"
    }
   ],
   "source": [
    "data.isnull().sum()"
   ]
  },
  {
   "cell_type": "markdown",
   "id": "f2c244d6",
   "metadata": {},
   "source": [
    "아직 직장이 없는 사람의 일한 날짜를 초기화시킴"
   ]
  },
  {
   "cell_type": "code",
   "execution_count": 34,
   "id": "dd166ab4",
   "metadata": {},
   "outputs": [
    {
     "data": {
      "text/html": [
       "<div>\n",
       "<style scoped>\n",
       "    .dataframe tbody tr th:only-of-type {\n",
       "        vertical-align: middle;\n",
       "    }\n",
       "\n",
       "    .dataframe tbody tr th {\n",
       "        vertical-align: top;\n",
       "    }\n",
       "\n",
       "    .dataframe thead th {\n",
       "        text-align: right;\n",
       "    }\n",
       "</style>\n",
       "<table border=\"1\" class=\"dataframe\">\n",
       "  <thead>\n",
       "    <tr style=\"text-align: right;\">\n",
       "      <th></th>\n",
       "      <th>DAYS_BIRTH</th>\n",
       "      <th>DAYS_EMPLOYED</th>\n",
       "      <th>begin_month</th>\n",
       "    </tr>\n",
       "  </thead>\n",
       "  <tbody>\n",
       "    <tr>\n",
       "      <th>max</th>\n",
       "      <td>24611</td>\n",
       "      <td>15713</td>\n",
       "      <td>60.0</td>\n",
       "    </tr>\n",
       "    <tr>\n",
       "      <th>min</th>\n",
       "      <td>7489</td>\n",
       "      <td>17</td>\n",
       "      <td>0.0</td>\n",
       "    </tr>\n",
       "  </tbody>\n",
       "</table>\n",
       "</div>"
      ],
      "text/plain": [
       "     DAYS_BIRTH  DAYS_EMPLOYED  begin_month\n",
       "max       24611          15713         60.0\n",
       "min        7489             17          0.0"
      ]
     },
     "execution_count": 34,
     "metadata": {},
     "output_type": "execute_result"
    }
   ],
   "source": [
    "data['DAYS_BIRTH'] = data['DAYS_BIRTH'].abs()\n",
    "data['DAYS_EMPLOYED'] = data['DAYS_EMPLOYED'].abs()\n",
    "data['begin_month'] = data['begin_month'].abs()\n",
    "\n",
    "# 세 열의 최대, 최소값을 구하세요.\n",
    "data[['DAYS_BIRTH', 'DAYS_EMPLOYED', 'begin_month']].agg(['max', 'min'])"
   ]
  },
  {
   "cell_type": "code",
   "execution_count": 35,
   "id": "29937d45",
   "metadata": {},
   "outputs": [
    {
     "data": {
      "text/plain": [
       "1       31\n",
       "2       52\n",
       "3       41\n",
       "4       41\n",
       "5       36\n",
       "        ..\n",
       "9990    49\n",
       "9996    29\n",
       "9997    57\n",
       "9998    45\n",
       "9999    25\n",
       "Name: year, Length: 27459, dtype: int64"
      ]
     },
     "execution_count": 35,
     "metadata": {},
     "output_type": "execute_result"
    }
   ],
   "source": [
    "data['year'] = data['DAYS_BIRTH'] // 365\n",
    "data['year']"
   ]
  },
  {
   "cell_type": "code",
   "execution_count": 36,
   "id": "227cda8e",
   "metadata": {},
   "outputs": [
    {
     "data": {
      "text/plain": [
       "1        4\n",
       "2       12\n",
       "3        5\n",
       "4        5\n",
       "5       13\n",
       "        ..\n",
       "9990    22\n",
       "9996     3\n",
       "9997    38\n",
       "9998     2\n",
       "9999     0\n",
       "Name: work_year, Length: 27459, dtype: int64"
      ]
     },
     "execution_count": 36,
     "metadata": {},
     "output_type": "execute_result"
    }
   ],
   "source": [
    "data['work_year'] = (data['DAYS_EMPLOYED'] // 365)\n",
    "data['work_year']"
   ]
  },
  {
   "cell_type": "code",
   "execution_count": 37,
   "id": "8d965f1a",
   "metadata": {},
   "outputs": [],
   "source": [
    "data['card Issuance'] = (data['begin_month'] // 12)"
   ]
  },
  {
   "cell_type": "code",
   "execution_count": 38,
   "id": "faf3b72c",
   "metadata": {},
   "outputs": [
    {
     "data": {
      "text/html": [
       "<div>\n",
       "<style scoped>\n",
       "    .dataframe tbody tr th:only-of-type {\n",
       "        vertical-align: middle;\n",
       "    }\n",
       "\n",
       "    .dataframe tbody tr th {\n",
       "        vertical-align: top;\n",
       "    }\n",
       "\n",
       "    .dataframe thead th {\n",
       "        text-align: right;\n",
       "    }\n",
       "</style>\n",
       "<table border=\"1\" class=\"dataframe\">\n",
       "  <thead>\n",
       "    <tr style=\"text-align: right;\">\n",
       "      <th></th>\n",
       "      <th>card Issuance</th>\n",
       "      <th>gender</th>\n",
       "    </tr>\n",
       "  </thead>\n",
       "  <tbody>\n",
       "    <tr>\n",
       "      <th>0</th>\n",
       "      <td>0.0</td>\n",
       "      <td>6592</td>\n",
       "    </tr>\n",
       "    <tr>\n",
       "      <th>1</th>\n",
       "      <td>1.0</td>\n",
       "      <td>6627</td>\n",
       "    </tr>\n",
       "    <tr>\n",
       "      <th>2</th>\n",
       "      <td>2.0</td>\n",
       "      <td>5707</td>\n",
       "    </tr>\n",
       "    <tr>\n",
       "      <th>3</th>\n",
       "      <td>3.0</td>\n",
       "      <td>4783</td>\n",
       "    </tr>\n",
       "    <tr>\n",
       "      <th>4</th>\n",
       "      <td>4.0</td>\n",
       "      <td>3509</td>\n",
       "    </tr>\n",
       "    <tr>\n",
       "      <th>5</th>\n",
       "      <td>5.0</td>\n",
       "      <td>241</td>\n",
       "    </tr>\n",
       "  </tbody>\n",
       "</table>\n",
       "</div>"
      ],
      "text/plain": [
       "   card Issuance  gender\n",
       "0            0.0    6592\n",
       "1            1.0    6627\n",
       "2            2.0    5707\n",
       "3            3.0    4783\n",
       "4            4.0    3509\n",
       "5            5.0     241"
      ]
     },
     "execution_count": 38,
     "metadata": {},
     "output_type": "execute_result"
    }
   ],
   "source": [
    "a= data.groupby(['card Issuance'])[['gender']].count().reset_index()\n",
    "a"
   ]
  },
  {
   "cell_type": "code",
   "execution_count": 39,
   "id": "ff69373d",
   "metadata": {},
   "outputs": [
    {
     "data": {
      "text/html": [
       "<div>\n",
       "<style scoped>\n",
       "    .dataframe tbody tr th:only-of-type {\n",
       "        vertical-align: middle;\n",
       "    }\n",
       "\n",
       "    .dataframe tbody tr th {\n",
       "        vertical-align: top;\n",
       "    }\n",
       "\n",
       "    .dataframe thead th {\n",
       "        text-align: right;\n",
       "    }\n",
       "</style>\n",
       "<table border=\"1\" class=\"dataframe\">\n",
       "  <thead>\n",
       "    <tr style=\"text-align: right;\">\n",
       "      <th></th>\n",
       "      <th>begin_month</th>\n",
       "      <th>counts</th>\n",
       "    </tr>\n",
       "  </thead>\n",
       "  <tbody>\n",
       "    <tr>\n",
       "      <th>0</th>\n",
       "      <td>0.0</td>\n",
       "      <td>6592</td>\n",
       "    </tr>\n",
       "    <tr>\n",
       "      <th>1</th>\n",
       "      <td>1.0</td>\n",
       "      <td>6627</td>\n",
       "    </tr>\n",
       "    <tr>\n",
       "      <th>2</th>\n",
       "      <td>2.0</td>\n",
       "      <td>5707</td>\n",
       "    </tr>\n",
       "    <tr>\n",
       "      <th>3</th>\n",
       "      <td>3.0</td>\n",
       "      <td>4783</td>\n",
       "    </tr>\n",
       "    <tr>\n",
       "      <th>4</th>\n",
       "      <td>4.0</td>\n",
       "      <td>3509</td>\n",
       "    </tr>\n",
       "    <tr>\n",
       "      <th>5</th>\n",
       "      <td>5.0</td>\n",
       "      <td>241</td>\n",
       "    </tr>\n",
       "  </tbody>\n",
       "</table>\n",
       "</div>"
      ],
      "text/plain": [
       "   begin_month  counts\n",
       "0          0.0    6592\n",
       "1          1.0    6627\n",
       "2          2.0    5707\n",
       "3          3.0    4783\n",
       "4          4.0    3509\n",
       "5          5.0     241"
      ]
     },
     "execution_count": 39,
     "metadata": {},
     "output_type": "execute_result"
    }
   ],
   "source": [
    "a.columns = ['begin_month', 'counts']\n",
    "a"
   ]
  },
  {
   "cell_type": "code",
   "execution_count": 40,
   "id": "3c1271eb",
   "metadata": {
    "scrolled": false
   },
   "outputs": [
    {
     "data": {
      "text/plain": [
       "[<matplotlib.lines.Line2D at 0x2e0c4aee280>]"
      ]
     },
     "execution_count": 40,
     "metadata": {},
     "output_type": "execute_result"
    },
    {
     "data": {
      "image/png": "[encoded data removed]",
      "text/plain": [
       "<Figure size 432x288 with 1 Axes>"
      ]
     },
     "metadata": {
      "needs_background": "light"
     },
     "output_type": "display_data"
    }
   ],
   "source": [
    "plt.plot(a['begin_month'], a['counts'])"
   ]
  },
  {
   "cell_type": "code",
   "execution_count": 41,
   "id": "dfd70477",
   "metadata": {},
   "outputs": [],
   "source": [
    "data.drop(columns ='begin_month', inplace = True)"
   ]
  },
  {
   "cell_type": "markdown",
   "id": "55ac8dfa",
   "metadata": {},
   "source": [
    "# 중복값 제거"
   ]
  },
  {
   "cell_type": "code",
   "execution_count": 42,
   "id": "08bdb8e4",
   "metadata": {},
   "outputs": [
    {
     "data": {
      "text/plain": [
       "(27459, 21)"
      ]
     },
     "execution_count": 42,
     "metadata": {},
     "output_type": "execute_result"
    }
   ],
   "source": [
    "data.shape"
   ]
  },
  {
   "cell_type": "code",
   "execution_count": 43,
   "id": "20f3335c",
   "metadata": {},
   "outputs": [
    {
     "data": {
      "text/plain": [
       "(21769, 21)"
      ]
     },
     "execution_count": 43,
     "metadata": {},
     "output_type": "execute_result"
    }
   ],
   "source": [
    "data = data.drop_duplicates(keep = 'first')\n",
    "data.shape"
   ]
  },
  {
   "cell_type": "markdown",
   "id": "9bc51774",
   "metadata": {},
   "source": [
    "# 컬럼 추가\n",
    "- ability\n",
    "- income_mean"
   ]
  },
  {
   "cell_type": "code",
   "execution_count": 44,
   "id": "09d8214e",
   "metadata": {},
   "outputs": [
    {
     "data": {
      "text/html": [
       "<div>\n",
       "<style scoped>\n",
       "    .dataframe tbody tr th:only-of-type {\n",
       "        vertical-align: middle;\n",
       "    }\n",
       "\n",
       "    .dataframe tbody tr th {\n",
       "        vertical-align: top;\n",
       "    }\n",
       "\n",
       "    .dataframe thead th {\n",
       "        text-align: right;\n",
       "    }\n",
       "</style>\n",
       "<table border=\"1\" class=\"dataframe\">\n",
       "  <thead>\n",
       "    <tr style=\"text-align: right;\">\n",
       "      <th></th>\n",
       "      <th>gender</th>\n",
       "      <th>car</th>\n",
       "      <th>reality</th>\n",
       "      <th>child_num</th>\n",
       "      <th>income_total</th>\n",
       "      <th>income_type</th>\n",
       "      <th>edu_type</th>\n",
       "      <th>family_type</th>\n",
       "      <th>house_type</th>\n",
       "      <th>DAYS_BIRTH</th>\n",
       "      <th>...</th>\n",
       "      <th>phone</th>\n",
       "      <th>email</th>\n",
       "      <th>occyp_type</th>\n",
       "      <th>family_size</th>\n",
       "      <th>credit</th>\n",
       "      <th>working</th>\n",
       "      <th>year</th>\n",
       "      <th>work_year</th>\n",
       "      <th>card Issuance</th>\n",
       "      <th>ability</th>\n",
       "    </tr>\n",
       "  </thead>\n",
       "  <tbody>\n",
       "    <tr>\n",
       "      <th>1</th>\n",
       "      <td>0</td>\n",
       "      <td>0</td>\n",
       "      <td>1</td>\n",
       "      <td>1</td>\n",
       "      <td>247500.0</td>\n",
       "      <td>Commercial associate</td>\n",
       "      <td>Secondary / secondary special</td>\n",
       "      <td>Civil marriage</td>\n",
       "      <td>House / apartment</td>\n",
       "      <td>11380</td>\n",
       "      <td>...</td>\n",
       "      <td>0</td>\n",
       "      <td>1</td>\n",
       "      <td>Laborers</td>\n",
       "      <td>3.0</td>\n",
       "      <td>1.0</td>\n",
       "      <td>1</td>\n",
       "      <td>31</td>\n",
       "      <td>4</td>\n",
       "      <td>0.0</td>\n",
       "      <td>19.156347</td>\n",
       "    </tr>\n",
       "    <tr>\n",
       "      <th>2</th>\n",
       "      <td>1</td>\n",
       "      <td>1</td>\n",
       "      <td>1</td>\n",
       "      <td>0</td>\n",
       "      <td>450000.0</td>\n",
       "      <td>Working</td>\n",
       "      <td>Higher education</td>\n",
       "      <td>Married</td>\n",
       "      <td>House / apartment</td>\n",
       "      <td>19087</td>\n",
       "      <td>...</td>\n",
       "      <td>1</td>\n",
       "      <td>0</td>\n",
       "      <td>Managers</td>\n",
       "      <td>2.0</td>\n",
       "      <td>2.0</td>\n",
       "      <td>1</td>\n",
       "      <td>52</td>\n",
       "      <td>12</td>\n",
       "      <td>1.0</td>\n",
       "      <td>19.131840</td>\n",
       "    </tr>\n",
       "    <tr>\n",
       "      <th>3</th>\n",
       "      <td>0</td>\n",
       "      <td>0</td>\n",
       "      <td>1</td>\n",
       "      <td>0</td>\n",
       "      <td>202500.0</td>\n",
       "      <td>Commercial associate</td>\n",
       "      <td>Secondary / secondary special</td>\n",
       "      <td>Married</td>\n",
       "      <td>House / apartment</td>\n",
       "      <td>15088</td>\n",
       "      <td>...</td>\n",
       "      <td>1</td>\n",
       "      <td>0</td>\n",
       "      <td>Sales staff</td>\n",
       "      <td>2.0</td>\n",
       "      <td>0.0</td>\n",
       "      <td>1</td>\n",
       "      <td>41</td>\n",
       "      <td>5</td>\n",
       "      <td>3.0</td>\n",
       "      <td>11.786962</td>\n",
       "    </tr>\n",
       "    <tr>\n",
       "      <th>4</th>\n",
       "      <td>0</td>\n",
       "      <td>1</td>\n",
       "      <td>1</td>\n",
       "      <td>0</td>\n",
       "      <td>157500.0</td>\n",
       "      <td>State servant</td>\n",
       "      <td>Higher education</td>\n",
       "      <td>Married</td>\n",
       "      <td>House / apartment</td>\n",
       "      <td>15037</td>\n",
       "      <td>...</td>\n",
       "      <td>0</td>\n",
       "      <td>0</td>\n",
       "      <td>Managers</td>\n",
       "      <td>2.0</td>\n",
       "      <td>2.0</td>\n",
       "      <td>1</td>\n",
       "      <td>41</td>\n",
       "      <td>5</td>\n",
       "      <td>2.0</td>\n",
       "      <td>9.187959</td>\n",
       "    </tr>\n",
       "    <tr>\n",
       "      <th>5</th>\n",
       "      <td>0</td>\n",
       "      <td>0</td>\n",
       "      <td>1</td>\n",
       "      <td>2</td>\n",
       "      <td>270000.0</td>\n",
       "      <td>Working</td>\n",
       "      <td>Secondary / secondary special</td>\n",
       "      <td>Married</td>\n",
       "      <td>House / apartment</td>\n",
       "      <td>13413</td>\n",
       "      <td>...</td>\n",
       "      <td>0</td>\n",
       "      <td>1</td>\n",
       "      <td>High skill tech staff</td>\n",
       "      <td>4.0</td>\n",
       "      <td>1.0</td>\n",
       "      <td>1</td>\n",
       "      <td>36</td>\n",
       "      <td>13</td>\n",
       "      <td>1.0</td>\n",
       "      <td>14.666739</td>\n",
       "    </tr>\n",
       "  </tbody>\n",
       "</table>\n",
       "<p>5 rows × 22 columns</p>\n",
       "</div>"
      ],
      "text/plain": [
       "   gender  car  reality  child_num  income_total           income_type  \\\n",
       "1       0    0        1          1      247500.0  Commercial associate   \n",
       "2       1    1        1          0      450000.0               Working   \n",
       "3       0    0        1          0      202500.0  Commercial associate   \n",
       "4       0    1        1          0      157500.0         State servant   \n",
       "5       0    0        1          2      270000.0               Working   \n",
       "\n",
       "                        edu_type     family_type         house_type  \\\n",
       "1  Secondary / secondary special  Civil marriage  House / apartment   \n",
       "2               Higher education         Married  House / apartment   \n",
       "3  Secondary / secondary special         Married  House / apartment   \n",
       "4               Higher education         Married  House / apartment   \n",
       "5  Secondary / secondary special         Married  House / apartment   \n",
       "\n",
       "   DAYS_BIRTH  ...  phone  email             occyp_type  family_size credit  \\\n",
       "1       11380  ...      0      1               Laborers          3.0    1.0   \n",
       "2       19087  ...      1      0               Managers          2.0    2.0   \n",
       "3       15088  ...      1      0            Sales staff          2.0    0.0   \n",
       "4       15037  ...      0      0               Managers          2.0    2.0   \n",
       "5       13413  ...      0      1  High skill tech staff          4.0    1.0   \n",
       "\n",
       "   working  year  work_year  card Issuance    ability  \n",
       "1        1    31          4            0.0  19.156347  \n",
       "2        1    52         12            1.0  19.131840  \n",
       "3        1    41          5            3.0  11.786962  \n",
       "4        1    41          5            2.0   9.187959  \n",
       "5        1    36         13            1.0  14.666739  \n",
       "\n",
       "[5 rows x 22 columns]"
      ]
     },
     "execution_count": 44,
     "metadata": {},
     "output_type": "execute_result"
    }
   ],
   "source": [
    "#수입을 (나이, 연차의 합)으로 나눈 값\n",
    "data['ability'] = data['income_total'] / (data['DAYS_BIRTH'] + data['DAYS_EMPLOYED'])\n",
    "data.head()"
   ]
  },
  {
   "cell_type": "code",
   "execution_count": 45,
   "id": "c70aa7d0",
   "metadata": {
    "scrolled": true
   },
   "outputs": [
    {
     "data": {
      "text/html": [
       "<div>\n",
       "<style scoped>\n",
       "    .dataframe tbody tr th:only-of-type {\n",
       "        vertical-align: middle;\n",
       "    }\n",
       "\n",
       "    .dataframe tbody tr th {\n",
       "        vertical-align: top;\n",
       "    }\n",
       "\n",
       "    .dataframe thead th {\n",
       "        text-align: right;\n",
       "    }\n",
       "</style>\n",
       "<table border=\"1\" class=\"dataframe\">\n",
       "  <thead>\n",
       "    <tr style=\"text-align: right;\">\n",
       "      <th></th>\n",
       "      <th>gender</th>\n",
       "      <th>car</th>\n",
       "      <th>reality</th>\n",
       "      <th>child_num</th>\n",
       "      <th>income_total</th>\n",
       "      <th>income_type</th>\n",
       "      <th>edu_type</th>\n",
       "      <th>family_type</th>\n",
       "      <th>house_type</th>\n",
       "      <th>DAYS_BIRTH</th>\n",
       "      <th>...</th>\n",
       "      <th>email</th>\n",
       "      <th>occyp_type</th>\n",
       "      <th>family_size</th>\n",
       "      <th>credit</th>\n",
       "      <th>working</th>\n",
       "      <th>year</th>\n",
       "      <th>work_year</th>\n",
       "      <th>card Issuance</th>\n",
       "      <th>ability</th>\n",
       "      <th>income_mean</th>\n",
       "    </tr>\n",
       "  </thead>\n",
       "  <tbody>\n",
       "    <tr>\n",
       "      <th>1</th>\n",
       "      <td>0</td>\n",
       "      <td>0</td>\n",
       "      <td>1</td>\n",
       "      <td>1</td>\n",
       "      <td>247500.0</td>\n",
       "      <td>Commercial associate</td>\n",
       "      <td>Secondary / secondary special</td>\n",
       "      <td>Civil marriage</td>\n",
       "      <td>House / apartment</td>\n",
       "      <td>11380</td>\n",
       "      <td>...</td>\n",
       "      <td>1</td>\n",
       "      <td>Laborers</td>\n",
       "      <td>3.0</td>\n",
       "      <td>1.0</td>\n",
       "      <td>1</td>\n",
       "      <td>31</td>\n",
       "      <td>4</td>\n",
       "      <td>0.0</td>\n",
       "      <td>19.156347</td>\n",
       "      <td>82500.0</td>\n",
       "    </tr>\n",
       "    <tr>\n",
       "      <th>2</th>\n",
       "      <td>1</td>\n",
       "      <td>1</td>\n",
       "      <td>1</td>\n",
       "      <td>0</td>\n",
       "      <td>450000.0</td>\n",
       "      <td>Working</td>\n",
       "      <td>Higher education</td>\n",
       "      <td>Married</td>\n",
       "      <td>House / apartment</td>\n",
       "      <td>19087</td>\n",
       "      <td>...</td>\n",
       "      <td>0</td>\n",
       "      <td>Managers</td>\n",
       "      <td>2.0</td>\n",
       "      <td>2.0</td>\n",
       "      <td>1</td>\n",
       "      <td>52</td>\n",
       "      <td>12</td>\n",
       "      <td>1.0</td>\n",
       "      <td>19.131840</td>\n",
       "      <td>225000.0</td>\n",
       "    </tr>\n",
       "    <tr>\n",
       "      <th>3</th>\n",
       "      <td>0</td>\n",
       "      <td>0</td>\n",
       "      <td>1</td>\n",
       "      <td>0</td>\n",
       "      <td>202500.0</td>\n",
       "      <td>Commercial associate</td>\n",
       "      <td>Secondary / secondary special</td>\n",
       "      <td>Married</td>\n",
       "      <td>House / apartment</td>\n",
       "      <td>15088</td>\n",
       "      <td>...</td>\n",
       "      <td>0</td>\n",
       "      <td>Sales staff</td>\n",
       "      <td>2.0</td>\n",
       "      <td>0.0</td>\n",
       "      <td>1</td>\n",
       "      <td>41</td>\n",
       "      <td>5</td>\n",
       "      <td>3.0</td>\n",
       "      <td>11.786962</td>\n",
       "      <td>101250.0</td>\n",
       "    </tr>\n",
       "    <tr>\n",
       "      <th>4</th>\n",
       "      <td>0</td>\n",
       "      <td>1</td>\n",
       "      <td>1</td>\n",
       "      <td>0</td>\n",
       "      <td>157500.0</td>\n",
       "      <td>State servant</td>\n",
       "      <td>Higher education</td>\n",
       "      <td>Married</td>\n",
       "      <td>House / apartment</td>\n",
       "      <td>15037</td>\n",
       "      <td>...</td>\n",
       "      <td>0</td>\n",
       "      <td>Managers</td>\n",
       "      <td>2.0</td>\n",
       "      <td>2.0</td>\n",
       "      <td>1</td>\n",
       "      <td>41</td>\n",
       "      <td>5</td>\n",
       "      <td>2.0</td>\n",
       "      <td>9.187959</td>\n",
       "      <td>78750.0</td>\n",
       "    </tr>\n",
       "    <tr>\n",
       "      <th>5</th>\n",
       "      <td>0</td>\n",
       "      <td>0</td>\n",
       "      <td>1</td>\n",
       "      <td>2</td>\n",
       "      <td>270000.0</td>\n",
       "      <td>Working</td>\n",
       "      <td>Secondary / secondary special</td>\n",
       "      <td>Married</td>\n",
       "      <td>House / apartment</td>\n",
       "      <td>13413</td>\n",
       "      <td>...</td>\n",
       "      <td>1</td>\n",
       "      <td>High skill tech staff</td>\n",
       "      <td>4.0</td>\n",
       "      <td>1.0</td>\n",
       "      <td>1</td>\n",
       "      <td>36</td>\n",
       "      <td>13</td>\n",
       "      <td>1.0</td>\n",
       "      <td>14.666739</td>\n",
       "      <td>67500.0</td>\n",
       "    </tr>\n",
       "  </tbody>\n",
       "</table>\n",
       "<p>5 rows × 23 columns</p>\n",
       "</div>"
      ],
      "text/plain": [
       "   gender  car  reality  child_num  income_total           income_type  \\\n",
       "1       0    0        1          1      247500.0  Commercial associate   \n",
       "2       1    1        1          0      450000.0               Working   \n",
       "3       0    0        1          0      202500.0  Commercial associate   \n",
       "4       0    1        1          0      157500.0         State servant   \n",
       "5       0    0        1          2      270000.0               Working   \n",
       "\n",
       "                        edu_type     family_type         house_type  \\\n",
       "1  Secondary / secondary special  Civil marriage  House / apartment   \n",
       "2               Higher education         Married  House / apartment   \n",
       "3  Secondary / secondary special         Married  House / apartment   \n",
       "4               Higher education         Married  House / apartment   \n",
       "5  Secondary / secondary special         Married  House / apartment   \n",
       "\n",
       "   DAYS_BIRTH  ...  email             occyp_type  family_size  credit working  \\\n",
       "1       11380  ...      1               Laborers          3.0     1.0       1   \n",
       "2       19087  ...      0               Managers          2.0     2.0       1   \n",
       "3       15088  ...      0            Sales staff          2.0     0.0       1   \n",
       "4       15037  ...      0               Managers          2.0     2.0       1   \n",
       "5       13413  ...      1  High skill tech staff          4.0     1.0       1   \n",
       "\n",
       "   year  work_year  card Issuance    ability  income_mean  \n",
       "1    31          4            0.0  19.156347      82500.0  \n",
       "2    52         12            1.0  19.131840     225000.0  \n",
       "3    41          5            3.0  11.786962     101250.0  \n",
       "4    41          5            2.0   9.187959      78750.0  \n",
       "5    36         13            1.0  14.666739      67500.0  \n",
       "\n",
       "[5 rows x 23 columns]"
      ]
     },
     "execution_count": 45,
     "metadata": {},
     "output_type": "execute_result"
    }
   ],
   "source": [
    "# 가족의 평균 수입을 나타내는 값.\n",
    "data['income_mean'] = data['income_total'] / data['family_size']\n",
    "data.head()"
   ]
  },
  {
   "cell_type": "code",
   "execution_count": 46,
   "id": "237160dd",
   "metadata": {},
   "outputs": [
    {
     "data": {
      "text/html": [
       "<div>\n",
       "<style scoped>\n",
       "    .dataframe tbody tr th:only-of-type {\n",
       "        vertical-align: middle;\n",
       "    }\n",
       "\n",
       "    .dataframe tbody tr th {\n",
       "        vertical-align: top;\n",
       "    }\n",
       "\n",
       "    .dataframe thead th {\n",
       "        text-align: right;\n",
       "    }\n",
       "</style>\n",
       "<table border=\"1\" class=\"dataframe\">\n",
       "  <thead>\n",
       "    <tr style=\"text-align: right;\">\n",
       "      <th></th>\n",
       "      <th>gender</th>\n",
       "      <th>car</th>\n",
       "      <th>reality</th>\n",
       "      <th>child_num</th>\n",
       "      <th>income_total</th>\n",
       "      <th>income_type</th>\n",
       "      <th>edu_type</th>\n",
       "      <th>family_type</th>\n",
       "      <th>house_type</th>\n",
       "      <th>work_phone</th>\n",
       "      <th>...</th>\n",
       "      <th>email</th>\n",
       "      <th>occyp_type</th>\n",
       "      <th>family_size</th>\n",
       "      <th>credit</th>\n",
       "      <th>working</th>\n",
       "      <th>year</th>\n",
       "      <th>work_year</th>\n",
       "      <th>card Issuance</th>\n",
       "      <th>ability</th>\n",
       "      <th>income_mean</th>\n",
       "    </tr>\n",
       "  </thead>\n",
       "  <tbody>\n",
       "    <tr>\n",
       "      <th>1</th>\n",
       "      <td>0</td>\n",
       "      <td>0</td>\n",
       "      <td>1</td>\n",
       "      <td>1</td>\n",
       "      <td>247500.0</td>\n",
       "      <td>Commercial associate</td>\n",
       "      <td>Secondary / secondary special</td>\n",
       "      <td>Civil marriage</td>\n",
       "      <td>House / apartment</td>\n",
       "      <td>0</td>\n",
       "      <td>...</td>\n",
       "      <td>1</td>\n",
       "      <td>Laborers</td>\n",
       "      <td>3.0</td>\n",
       "      <td>1.0</td>\n",
       "      <td>1</td>\n",
       "      <td>31</td>\n",
       "      <td>4</td>\n",
       "      <td>0.0</td>\n",
       "      <td>19.156347</td>\n",
       "      <td>82500.0</td>\n",
       "    </tr>\n",
       "    <tr>\n",
       "      <th>2</th>\n",
       "      <td>1</td>\n",
       "      <td>1</td>\n",
       "      <td>1</td>\n",
       "      <td>0</td>\n",
       "      <td>450000.0</td>\n",
       "      <td>Working</td>\n",
       "      <td>Higher education</td>\n",
       "      <td>Married</td>\n",
       "      <td>House / apartment</td>\n",
       "      <td>0</td>\n",
       "      <td>...</td>\n",
       "      <td>0</td>\n",
       "      <td>Managers</td>\n",
       "      <td>2.0</td>\n",
       "      <td>2.0</td>\n",
       "      <td>1</td>\n",
       "      <td>52</td>\n",
       "      <td>12</td>\n",
       "      <td>1.0</td>\n",
       "      <td>19.131840</td>\n",
       "      <td>225000.0</td>\n",
       "    </tr>\n",
       "    <tr>\n",
       "      <th>3</th>\n",
       "      <td>0</td>\n",
       "      <td>0</td>\n",
       "      <td>1</td>\n",
       "      <td>0</td>\n",
       "      <td>202500.0</td>\n",
       "      <td>Commercial associate</td>\n",
       "      <td>Secondary / secondary special</td>\n",
       "      <td>Married</td>\n",
       "      <td>House / apartment</td>\n",
       "      <td>0</td>\n",
       "      <td>...</td>\n",
       "      <td>0</td>\n",
       "      <td>Sales staff</td>\n",
       "      <td>2.0</td>\n",
       "      <td>0.0</td>\n",
       "      <td>1</td>\n",
       "      <td>41</td>\n",
       "      <td>5</td>\n",
       "      <td>3.0</td>\n",
       "      <td>11.786962</td>\n",
       "      <td>101250.0</td>\n",
       "    </tr>\n",
       "    <tr>\n",
       "      <th>4</th>\n",
       "      <td>0</td>\n",
       "      <td>1</td>\n",
       "      <td>1</td>\n",
       "      <td>0</td>\n",
       "      <td>157500.0</td>\n",
       "      <td>State servant</td>\n",
       "      <td>Higher education</td>\n",
       "      <td>Married</td>\n",
       "      <td>House / apartment</td>\n",
       "      <td>0</td>\n",
       "      <td>...</td>\n",
       "      <td>0</td>\n",
       "      <td>Managers</td>\n",
       "      <td>2.0</td>\n",
       "      <td>2.0</td>\n",
       "      <td>1</td>\n",
       "      <td>41</td>\n",
       "      <td>5</td>\n",
       "      <td>2.0</td>\n",
       "      <td>9.187959</td>\n",
       "      <td>78750.0</td>\n",
       "    </tr>\n",
       "    <tr>\n",
       "      <th>5</th>\n",
       "      <td>0</td>\n",
       "      <td>0</td>\n",
       "      <td>1</td>\n",
       "      <td>2</td>\n",
       "      <td>270000.0</td>\n",
       "      <td>Working</td>\n",
       "      <td>Secondary / secondary special</td>\n",
       "      <td>Married</td>\n",
       "      <td>House / apartment</td>\n",
       "      <td>0</td>\n",
       "      <td>...</td>\n",
       "      <td>1</td>\n",
       "      <td>High skill tech staff</td>\n",
       "      <td>4.0</td>\n",
       "      <td>1.0</td>\n",
       "      <td>1</td>\n",
       "      <td>36</td>\n",
       "      <td>13</td>\n",
       "      <td>1.0</td>\n",
       "      <td>14.666739</td>\n",
       "      <td>67500.0</td>\n",
       "    </tr>\n",
       "  </tbody>\n",
       "</table>\n",
       "<p>5 rows × 21 columns</p>\n",
       "</div>"
      ],
      "text/plain": [
       "   gender  car  reality  child_num  income_total           income_type  \\\n",
       "1       0    0        1          1      247500.0  Commercial associate   \n",
       "2       1    1        1          0      450000.0               Working   \n",
       "3       0    0        1          0      202500.0  Commercial associate   \n",
       "4       0    1        1          0      157500.0         State servant   \n",
       "5       0    0        1          2      270000.0               Working   \n",
       "\n",
       "                        edu_type     family_type         house_type  \\\n",
       "1  Secondary / secondary special  Civil marriage  House / apartment   \n",
       "2               Higher education         Married  House / apartment   \n",
       "3  Secondary / secondary special         Married  House / apartment   \n",
       "4               Higher education         Married  House / apartment   \n",
       "5  Secondary / secondary special         Married  House / apartment   \n",
       "\n",
       "   work_phone  ...  email             occyp_type family_size  credit  working  \\\n",
       "1           0  ...      1               Laborers         3.0     1.0        1   \n",
       "2           0  ...      0               Managers         2.0     2.0        1   \n",
       "3           0  ...      0            Sales staff         2.0     0.0        1   \n",
       "4           0  ...      0               Managers         2.0     2.0        1   \n",
       "5           0  ...      1  High skill tech staff         4.0     1.0        1   \n",
       "\n",
       "   year  work_year  card Issuance    ability  income_mean  \n",
       "1    31          4            0.0  19.156347      82500.0  \n",
       "2    52         12            1.0  19.131840     225000.0  \n",
       "3    41          5            3.0  11.786962     101250.0  \n",
       "4    41          5            2.0   9.187959      78750.0  \n",
       "5    36         13            1.0  14.666739      67500.0  \n",
       "\n",
       "[5 rows x 21 columns]"
      ]
     },
     "execution_count": 46,
     "metadata": {},
     "output_type": "execute_result"
    }
   ],
   "source": [
    "# DAYS_BIRTH, DAYS_EMPLOYED drop\n",
    "\n",
    "data = data.drop(columns = ['DAYS_BIRTH', 'DAYS_EMPLOYED'])\n",
    "data.head()"
   ]
  },
  {
   "cell_type": "markdown",
   "id": "6e921709",
   "metadata": {},
   "source": [
    "# 스케일링"
   ]
  },
  {
   "cell_type": "code",
   "execution_count": 47,
   "id": "84afe3eb",
   "metadata": {},
   "outputs": [],
   "source": [
    "data['income_total'] = data['income_total'] *130"
   ]
  },
  {
   "cell_type": "code",
   "execution_count": 48,
   "id": "91a3bf77",
   "metadata": {
    "scrolled": true
   },
   "outputs": [
    {
     "data": {
      "text/plain": [
       "count    2.176900e+04\n",
       "mean     2.508959e+07\n",
       "std      1.347582e+07\n",
       "min      3.510000e+06\n",
       "25%      1.755000e+07\n",
       "50%      2.281500e+07\n",
       "75%      2.925000e+07\n",
       "max      2.047500e+08\n",
       "Name: income_total, dtype: float64"
      ]
     },
     "execution_count": 48,
     "metadata": {},
     "output_type": "execute_result"
    }
   ],
   "source": [
    "data['income_total'].describe()"
   ]
  },
  {
   "cell_type": "code",
   "execution_count": 49,
   "id": "60858582",
   "metadata": {},
   "outputs": [
    {
     "name": "stderr",
     "output_type": "stream",
     "text": [
      "C:\\Users\\Samsung\\Anaconda\\lib\\site-packages\\seaborn\\distributions.py:2557: FutureWarning: `distplot` is a deprecated function and will be removed in a future version. Please adapt your code to use either `displot` (a figure-level function with similar flexibility) or `histplot` (an axes-level function for histograms).\n",
      "  warnings.warn(msg, FutureWarning)\n"
     ]
    },
    {
     "data": {
      "text/plain": [
       "Text(0.5, 1.0, 'income_total')"
      ]
     },
     "execution_count": 49,
     "metadata": {},
     "output_type": "execute_result"
    },
    {
     "data": {
      "image/png": "[encoded data removed]",
      "text/plain": [
       "<Figure size 432x288 with 1 Axes>"
      ]
     },
     "metadata": {
      "needs_background": "light"
     },
     "output_type": "display_data"
    }
   ],
   "source": [
    "sns.distplot(data[['income_total']], bins = 50, color = 'orange')\n",
    "plt.title('income_total')"
   ]
  },
  {
   "cell_type": "code",
   "execution_count": 50,
   "id": "b0b86c65",
   "metadata": {
    "scrolled": true
   },
   "outputs": [
    {
     "name": "stderr",
     "output_type": "stream",
     "text": [
      "C:\\Users\\Samsung\\Anaconda\\lib\\site-packages\\seaborn\\distributions.py:2557: FutureWarning: `distplot` is a deprecated function and will be removed in a future version. Please adapt your code to use either `displot` (a figure-level function with similar flexibility) or `histplot` (an axes-level function for histograms).\n",
      "  warnings.warn(msg, FutureWarning)\n",
      "C:\\Users\\Samsung\\Anaconda\\lib\\site-packages\\seaborn\\distributions.py:2557: FutureWarning: `distplot` is a deprecated function and will be removed in a future version. Please adapt your code to use either `displot` (a figure-level function with similar flexibility) or `histplot` (an axes-level function for histograms).\n",
      "  warnings.warn(msg, FutureWarning)\n"
     ]
    },
    {
     "data": {
      "image/png": "[encoded data removed]",
      "text/plain": [
       "<Figure size 1008x288 with 2 Axes>"
      ]
     },
     "metadata": {
      "needs_background": "light"
     },
     "output_type": "display_data"
    }
   ],
   "source": [
    "data['income_total'] = np.log1p(data['income_total'])\n",
    "data['income_mean'] = np.log1p(data['income_mean'])\n",
    "\n",
    "# 위의 그래프를 그리세요.\n",
    "plt.figure(figsize = (14,4))\n",
    "\n",
    "plt.subplot(1,2,1)\n",
    "sns.distplot(data[['income_total']], bins = 50, color = 'orange')\n",
    "plt.title('income_total')\n",
    "\n",
    "plt.subplot(1,2,2)\n",
    "sns.distplot(data[['income_mean']], bins = 50, color = 'green')\n",
    "plt.title('income_mean')\n",
    "\n",
    "plt.show()"
   ]
  },
  {
   "cell_type": "code",
   "execution_count": 51,
   "id": "89f5a867",
   "metadata": {},
   "outputs": [],
   "source": [
    "X = data.drop(columns = 'credit')\n",
    "y = data['credit']"
   ]
  },
  {
   "cell_type": "code",
   "execution_count": 52,
   "id": "51f83633",
   "metadata": {
    "scrolled": true
   },
   "outputs": [
    {
     "data": {
      "text/plain": [
       "Index(['gender', 'car', 'reality', 'child_num', 'income_total', 'income_type',\n",
       "       'edu_type', 'family_type', 'house_type', 'work_phone', 'phone', 'email',\n",
       "       'occyp_type', 'family_size', 'working', 'year', 'work_year',\n",
       "       'card Issuance', 'ability', 'income_mean'],\n",
       "      dtype='object')"
      ]
     },
     "execution_count": 52,
     "metadata": {},
     "output_type": "execute_result"
    }
   ],
   "source": [
    "X.columns"
   ]
  },
  {
   "cell_type": "code",
   "execution_count": 53,
   "id": "56a4d419",
   "metadata": {},
   "outputs": [
    {
     "data": {
      "text/html": [
       "<div>\n",
       "<style scoped>\n",
       "    .dataframe tbody tr th:only-of-type {\n",
       "        vertical-align: middle;\n",
       "    }\n",
       "\n",
       "    .dataframe tbody tr th {\n",
       "        vertical-align: top;\n",
       "    }\n",
       "\n",
       "    .dataframe thead th {\n",
       "        text-align: right;\n",
       "    }\n",
       "</style>\n",
       "<table border=\"1\" class=\"dataframe\">\n",
       "  <thead>\n",
       "    <tr style=\"text-align: right;\">\n",
       "      <th></th>\n",
       "      <th>gender</th>\n",
       "      <th>car</th>\n",
       "      <th>reality</th>\n",
       "      <th>child_num</th>\n",
       "      <th>income_total</th>\n",
       "      <th>income_type</th>\n",
       "      <th>edu_type</th>\n",
       "      <th>family_type</th>\n",
       "      <th>house_type</th>\n",
       "      <th>work_phone</th>\n",
       "      <th>phone</th>\n",
       "      <th>email</th>\n",
       "      <th>occyp_type</th>\n",
       "      <th>family_size</th>\n",
       "      <th>working</th>\n",
       "      <th>year</th>\n",
       "      <th>work_year</th>\n",
       "      <th>card Issuance</th>\n",
       "      <th>ability</th>\n",
       "      <th>income_mean</th>\n",
       "    </tr>\n",
       "  </thead>\n",
       "  <tbody>\n",
       "    <tr>\n",
       "      <th>1</th>\n",
       "      <td>0</td>\n",
       "      <td>0</td>\n",
       "      <td>1</td>\n",
       "      <td>1</td>\n",
       "      <td>17.286700</td>\n",
       "      <td>Commercial associate</td>\n",
       "      <td>Secondary / secondary special</td>\n",
       "      <td>Civil marriage</td>\n",
       "      <td>House / apartment</td>\n",
       "      <td>0</td>\n",
       "      <td>0</td>\n",
       "      <td>1</td>\n",
       "      <td>Laborers</td>\n",
       "      <td>3.0</td>\n",
       "      <td>1</td>\n",
       "      <td>31</td>\n",
       "      <td>4</td>\n",
       "      <td>0.0</td>\n",
       "      <td>19.156347</td>\n",
       "      <td>11.320566</td>\n",
       "    </tr>\n",
       "    <tr>\n",
       "      <th>2</th>\n",
       "      <td>1</td>\n",
       "      <td>1</td>\n",
       "      <td>1</td>\n",
       "      <td>0</td>\n",
       "      <td>17.884537</td>\n",
       "      <td>Working</td>\n",
       "      <td>Higher education</td>\n",
       "      <td>Married</td>\n",
       "      <td>House / apartment</td>\n",
       "      <td>0</td>\n",
       "      <td>1</td>\n",
       "      <td>0</td>\n",
       "      <td>Managers</td>\n",
       "      <td>2.0</td>\n",
       "      <td>1</td>\n",
       "      <td>52</td>\n",
       "      <td>12</td>\n",
       "      <td>1.0</td>\n",
       "      <td>19.131840</td>\n",
       "      <td>12.323860</td>\n",
       "    </tr>\n",
       "    <tr>\n",
       "      <th>3</th>\n",
       "      <td>0</td>\n",
       "      <td>0</td>\n",
       "      <td>1</td>\n",
       "      <td>0</td>\n",
       "      <td>17.086030</td>\n",
       "      <td>Commercial associate</td>\n",
       "      <td>Secondary / secondary special</td>\n",
       "      <td>Married</td>\n",
       "      <td>House / apartment</td>\n",
       "      <td>0</td>\n",
       "      <td>1</td>\n",
       "      <td>0</td>\n",
       "      <td>Sales staff</td>\n",
       "      <td>2.0</td>\n",
       "      <td>1</td>\n",
       "      <td>41</td>\n",
       "      <td>5</td>\n",
       "      <td>3.0</td>\n",
       "      <td>11.786962</td>\n",
       "      <td>11.525358</td>\n",
       "    </tr>\n",
       "    <tr>\n",
       "      <th>4</th>\n",
       "      <td>0</td>\n",
       "      <td>1</td>\n",
       "      <td>1</td>\n",
       "      <td>0</td>\n",
       "      <td>16.834715</td>\n",
       "      <td>State servant</td>\n",
       "      <td>Higher education</td>\n",
       "      <td>Married</td>\n",
       "      <td>House / apartment</td>\n",
       "      <td>0</td>\n",
       "      <td>0</td>\n",
       "      <td>0</td>\n",
       "      <td>Managers</td>\n",
       "      <td>2.0</td>\n",
       "      <td>1</td>\n",
       "      <td>41</td>\n",
       "      <td>5</td>\n",
       "      <td>2.0</td>\n",
       "      <td>9.187959</td>\n",
       "      <td>11.274046</td>\n",
       "    </tr>\n",
       "    <tr>\n",
       "      <th>5</th>\n",
       "      <td>0</td>\n",
       "      <td>0</td>\n",
       "      <td>1</td>\n",
       "      <td>2</td>\n",
       "      <td>17.373712</td>\n",
       "      <td>Working</td>\n",
       "      <td>Secondary / secondary special</td>\n",
       "      <td>Married</td>\n",
       "      <td>House / apartment</td>\n",
       "      <td>0</td>\n",
       "      <td>0</td>\n",
       "      <td>1</td>\n",
       "      <td>High skill tech staff</td>\n",
       "      <td>4.0</td>\n",
       "      <td>1</td>\n",
       "      <td>36</td>\n",
       "      <td>13</td>\n",
       "      <td>1.0</td>\n",
       "      <td>14.666739</td>\n",
       "      <td>11.119898</td>\n",
       "    </tr>\n",
       "    <tr>\n",
       "      <th>...</th>\n",
       "      <td>...</td>\n",
       "      <td>...</td>\n",
       "      <td>...</td>\n",
       "      <td>...</td>\n",
       "      <td>...</td>\n",
       "      <td>...</td>\n",
       "      <td>...</td>\n",
       "      <td>...</td>\n",
       "      <td>...</td>\n",
       "      <td>...</td>\n",
       "      <td>...</td>\n",
       "      <td>...</td>\n",
       "      <td>...</td>\n",
       "      <td>...</td>\n",
       "      <td>...</td>\n",
       "      <td>...</td>\n",
       "      <td>...</td>\n",
       "      <td>...</td>\n",
       "      <td>...</td>\n",
       "      <td>...</td>\n",
       "    </tr>\n",
       "    <tr>\n",
       "      <th>9989</th>\n",
       "      <td>1</td>\n",
       "      <td>0</td>\n",
       "      <td>0</td>\n",
       "      <td>1</td>\n",
       "      <td>17.108009</td>\n",
       "      <td>State servant</td>\n",
       "      <td>Higher education</td>\n",
       "      <td>Married</td>\n",
       "      <td>Office apartment</td>\n",
       "      <td>0</td>\n",
       "      <td>0</td>\n",
       "      <td>0</td>\n",
       "      <td>Core staff</td>\n",
       "      <td>3.0</td>\n",
       "      <td>1</td>\n",
       "      <td>40</td>\n",
       "      <td>7</td>\n",
       "      <td>2.0</td>\n",
       "      <td>11.819116</td>\n",
       "      <td>11.141876</td>\n",
       "    </tr>\n",
       "    <tr>\n",
       "      <th>9996</th>\n",
       "      <td>1</td>\n",
       "      <td>1</td>\n",
       "      <td>1</td>\n",
       "      <td>0</td>\n",
       "      <td>17.086030</td>\n",
       "      <td>Working</td>\n",
       "      <td>Secondary / secondary special</td>\n",
       "      <td>Civil marriage</td>\n",
       "      <td>House / apartment</td>\n",
       "      <td>1</td>\n",
       "      <td>0</td>\n",
       "      <td>0</td>\n",
       "      <td>Laborers</td>\n",
       "      <td>2.0</td>\n",
       "      <td>1</td>\n",
       "      <td>29</td>\n",
       "      <td>3</td>\n",
       "      <td>2.0</td>\n",
       "      <td>16.597000</td>\n",
       "      <td>11.525358</td>\n",
       "    </tr>\n",
       "    <tr>\n",
       "      <th>9997</th>\n",
       "      <td>0</td>\n",
       "      <td>0</td>\n",
       "      <td>1</td>\n",
       "      <td>0</td>\n",
       "      <td>17.453754</td>\n",
       "      <td>Working</td>\n",
       "      <td>Secondary / secondary special</td>\n",
       "      <td>Married</td>\n",
       "      <td>House / apartment</td>\n",
       "      <td>0</td>\n",
       "      <td>0</td>\n",
       "      <td>0</td>\n",
       "      <td>Medicine staff</td>\n",
       "      <td>2.0</td>\n",
       "      <td>1</td>\n",
       "      <td>57</td>\n",
       "      <td>38</td>\n",
       "      <td>4.0</td>\n",
       "      <td>8.349032</td>\n",
       "      <td>11.893080</td>\n",
       "    </tr>\n",
       "    <tr>\n",
       "      <th>9998</th>\n",
       "      <td>0</td>\n",
       "      <td>1</td>\n",
       "      <td>0</td>\n",
       "      <td>0</td>\n",
       "      <td>16.968247</td>\n",
       "      <td>Commercial associate</td>\n",
       "      <td>Secondary / secondary special</td>\n",
       "      <td>Married</td>\n",
       "      <td>House / apartment</td>\n",
       "      <td>0</td>\n",
       "      <td>1</td>\n",
       "      <td>0</td>\n",
       "      <td>no_working</td>\n",
       "      <td>2.0</td>\n",
       "      <td>1</td>\n",
       "      <td>45</td>\n",
       "      <td>2</td>\n",
       "      <td>2.0</td>\n",
       "      <td>10.212187</td>\n",
       "      <td>11.407576</td>\n",
       "    </tr>\n",
       "    <tr>\n",
       "      <th>9999</th>\n",
       "      <td>0</td>\n",
       "      <td>0</td>\n",
       "      <td>1</td>\n",
       "      <td>0</td>\n",
       "      <td>17.373712</td>\n",
       "      <td>Working</td>\n",
       "      <td>Higher education</td>\n",
       "      <td>Married</td>\n",
       "      <td>House / apartment</td>\n",
       "      <td>0</td>\n",
       "      <td>0</td>\n",
       "      <td>1</td>\n",
       "      <td>Laborers</td>\n",
       "      <td>2.0</td>\n",
       "      <td>1</td>\n",
       "      <td>25</td>\n",
       "      <td>0</td>\n",
       "      <td>0.0</td>\n",
       "      <td>28.904828</td>\n",
       "      <td>11.813037</td>\n",
       "    </tr>\n",
       "  </tbody>\n",
       "</table>\n",
       "<p>21769 rows × 20 columns</p>\n",
       "</div>"
      ],
      "text/plain": [
       "      gender  car  reality  child_num  income_total           income_type  \\\n",
       "1          0    0        1          1     17.286700  Commercial associate   \n",
       "2          1    1        1          0     17.884537               Working   \n",
       "3          0    0        1          0     17.086030  Commercial associate   \n",
       "4          0    1        1          0     16.834715         State servant   \n",
       "5          0    0        1          2     17.373712               Working   \n",
       "...      ...  ...      ...        ...           ...                   ...   \n",
       "9989       1    0        0          1     17.108009         State servant   \n",
       "9996       1    1        1          0     17.086030               Working   \n",
       "9997       0    0        1          0     17.453754               Working   \n",
       "9998       0    1        0          0     16.968247  Commercial associate   \n",
       "9999       0    0        1          0     17.373712               Working   \n",
       "\n",
       "                           edu_type     family_type         house_type  \\\n",
       "1     Secondary / secondary special  Civil marriage  House / apartment   \n",
       "2                  Higher education         Married  House / apartment   \n",
       "3     Secondary / secondary special         Married  House / apartment   \n",
       "4                  Higher education         Married  House / apartment   \n",
       "5     Secondary / secondary special         Married  House / apartment   \n",
       "...                             ...             ...                ...   \n",
       "9989               Higher education         Married   Office apartment   \n",
       "9996  Secondary / secondary special  Civil marriage  House / apartment   \n",
       "9997  Secondary / secondary special         Married  House / apartment   \n",
       "9998  Secondary / secondary special         Married  House / apartment   \n",
       "9999               Higher education         Married  House / apartment   \n",
       "\n",
       "      work_phone  phone  email             occyp_type  family_size  working  \\\n",
       "1              0      0      1               Laborers          3.0        1   \n",
       "2              0      1      0               Managers          2.0        1   \n",
       "3              0      1      0            Sales staff          2.0        1   \n",
       "4              0      0      0               Managers          2.0        1   \n",
       "5              0      0      1  High skill tech staff          4.0        1   \n",
       "...          ...    ...    ...                    ...          ...      ...   \n",
       "9989           0      0      0             Core staff          3.0        1   \n",
       "9996           1      0      0               Laborers          2.0        1   \n",
       "9997           0      0      0         Medicine staff          2.0        1   \n",
       "9998           0      1      0             no_working          2.0        1   \n",
       "9999           0      0      1               Laborers          2.0        1   \n",
       "\n",
       "      year  work_year  card Issuance    ability  income_mean  \n",
       "1       31          4            0.0  19.156347    11.320566  \n",
       "2       52         12            1.0  19.131840    12.323860  \n",
       "3       41          5            3.0  11.786962    11.525358  \n",
       "4       41          5            2.0   9.187959    11.274046  \n",
       "5       36         13            1.0  14.666739    11.119898  \n",
       "...    ...        ...            ...        ...          ...  \n",
       "9989    40          7            2.0  11.819116    11.141876  \n",
       "9996    29          3            2.0  16.597000    11.525358  \n",
       "9997    57         38            4.0   8.349032    11.893080  \n",
       "9998    45          2            2.0  10.212187    11.407576  \n",
       "9999    25          0            0.0  28.904828    11.813037  \n",
       "\n",
       "[21769 rows x 20 columns]"
      ]
     },
     "execution_count": 53,
     "metadata": {},
     "output_type": "execute_result"
    }
   ],
   "source": [
    "X"
   ]
  },
  {
   "cell_type": "markdown",
   "id": "44846a14",
   "metadata": {},
   "source": [
    "컬럼(columns) 설명  \n",
    "index  \n",
    "gender: 성별  \n",
    "car: 차량 소유 여부  \n",
    "reality: 부동산 소유 여부  \n",
    "child_num: 자녀 수  \n",
    "income_total: 연간 소득  \n",
    "income_type: 소득 분류  \n",
    "'Commercial associate', 'Working', 'State servant', 'Pensioner', 'Student'  \n",
    "edu_type: 교육 수준  \n",
    "'Higher education' ,'Secondary / secondary special', 'Incomplete higher', 'Lower secondary', 'Academic degree'  \n",
    "family_type: 결혼 여부  \n",
    "'Married', 'Civil marriage', 'Separated', 'Single / not married', 'Widow'  \n",
    "house_type: 생활 방식  \n",
    "'Municipal apartment', 'House / apartment', 'With parents', 'Co-op apartment', 'Rented apartment', 'Office apartment'  \n",
    "DAYS_BIRTH: 출생일  \n",
    "데이터 수집 당시 (0)부터 역으로 셈, 즉, -1은 데이터 수집일 하루 전에 태어났음을 의미  \n",
    "DAYS_EMPLOYED: 업무 시작일  \n",
    "데이터 수집 당시 (0)부터 역으로 셈, 즉, -1은 데이터 수집일 하루 전부터 일을 시작함을 의미  \n",
    "양수 값은 고용되지 않은 상태를 의미함  \n",
    "FLAG_MOBIL: 핸드폰 소유 여부  \n",
    "work_phone: 업무용 전화 소유 여부  \n",
    "phone: 전화 소유 여부  \n",
    "email: 이메일 소유 여부  \n",
    "occyp_type: 직업 유형  \n",
    "family_size: 가족 규모  \n",
    "begin_month: 신용카드 발급 월  \n",
    "데이터 수집 당시 (0)부터 역으로 셈, 즉, -1은 데이터 수집일 한 달 전에 신용카드를 발급함을 의미  \n",
    "credit : 사용자의 신용카드 대금 연체를 기준으로 한 신용도 (y 값으로 사용)  \n",
    "낮을 수록 높은 신용의 신용카드 사용자를 의미함  "
   ]
  },
  {
   "cell_type": "code",
   "execution_count": 54,
   "id": "c295bbd2",
   "metadata": {
    "scrolled": true
   },
   "outputs": [
    {
     "data": {
      "text/plain": [
       "Index(['gender', 'car', 'reality', 'child_num', 'income_total', 'income_type',\n",
       "       'edu_type', 'family_type', 'house_type', 'work_phone', 'phone', 'email',\n",
       "       'occyp_type', 'family_size', 'credit', 'working', 'year', 'work_year',\n",
       "       'card Issuance', 'ability', 'income_mean'],\n",
       "      dtype='object')"
      ]
     },
     "execution_count": 54,
     "metadata": {},
     "output_type": "execute_result"
    }
   ],
   "source": [
    "data.columns"
   ]
  },
  {
   "cell_type": "code",
   "execution_count": 55,
   "id": "598a4fd2",
   "metadata": {
    "scrolled": true
   },
   "outputs": [
    {
     "data": {
      "text/html": [
       "<div>\n",
       "<style scoped>\n",
       "    .dataframe tbody tr th:only-of-type {\n",
       "        vertical-align: middle;\n",
       "    }\n",
       "\n",
       "    .dataframe tbody tr th {\n",
       "        vertical-align: top;\n",
       "    }\n",
       "\n",
       "    .dataframe thead th {\n",
       "        text-align: right;\n",
       "    }\n",
       "</style>\n",
       "<table border=\"1\" class=\"dataframe\">\n",
       "  <thead>\n",
       "    <tr style=\"text-align: right;\">\n",
       "      <th></th>\n",
       "      <th>gender</th>\n",
       "      <th>car</th>\n",
       "      <th>reality</th>\n",
       "      <th>child_num</th>\n",
       "      <th>income_total</th>\n",
       "      <th>income_type</th>\n",
       "      <th>edu_type</th>\n",
       "      <th>family_type</th>\n",
       "      <th>house_type</th>\n",
       "      <th>work_phone</th>\n",
       "      <th>...</th>\n",
       "      <th>email</th>\n",
       "      <th>occyp_type</th>\n",
       "      <th>family_size</th>\n",
       "      <th>credit</th>\n",
       "      <th>working</th>\n",
       "      <th>year</th>\n",
       "      <th>work_year</th>\n",
       "      <th>card Issuance</th>\n",
       "      <th>ability</th>\n",
       "      <th>income_mean</th>\n",
       "    </tr>\n",
       "  </thead>\n",
       "  <tbody>\n",
       "    <tr>\n",
       "      <th>1</th>\n",
       "      <td>0</td>\n",
       "      <td>0</td>\n",
       "      <td>1</td>\n",
       "      <td>1</td>\n",
       "      <td>17.286700</td>\n",
       "      <td>Commercial associate</td>\n",
       "      <td>Secondary / secondary special</td>\n",
       "      <td>Civil marriage</td>\n",
       "      <td>House / apartment</td>\n",
       "      <td>0</td>\n",
       "      <td>...</td>\n",
       "      <td>1</td>\n",
       "      <td>Laborers</td>\n",
       "      <td>3.0</td>\n",
       "      <td>1.0</td>\n",
       "      <td>1</td>\n",
       "      <td>31</td>\n",
       "      <td>4</td>\n",
       "      <td>0.0</td>\n",
       "      <td>19.156347</td>\n",
       "      <td>11.320566</td>\n",
       "    </tr>\n",
       "    <tr>\n",
       "      <th>2</th>\n",
       "      <td>1</td>\n",
       "      <td>1</td>\n",
       "      <td>1</td>\n",
       "      <td>0</td>\n",
       "      <td>17.884537</td>\n",
       "      <td>Working</td>\n",
       "      <td>Higher education</td>\n",
       "      <td>Married</td>\n",
       "      <td>House / apartment</td>\n",
       "      <td>0</td>\n",
       "      <td>...</td>\n",
       "      <td>0</td>\n",
       "      <td>Managers</td>\n",
       "      <td>2.0</td>\n",
       "      <td>2.0</td>\n",
       "      <td>1</td>\n",
       "      <td>52</td>\n",
       "      <td>12</td>\n",
       "      <td>1.0</td>\n",
       "      <td>19.131840</td>\n",
       "      <td>12.323860</td>\n",
       "    </tr>\n",
       "    <tr>\n",
       "      <th>3</th>\n",
       "      <td>0</td>\n",
       "      <td>0</td>\n",
       "      <td>1</td>\n",
       "      <td>0</td>\n",
       "      <td>17.086030</td>\n",
       "      <td>Commercial associate</td>\n",
       "      <td>Secondary / secondary special</td>\n",
       "      <td>Married</td>\n",
       "      <td>House / apartment</td>\n",
       "      <td>0</td>\n",
       "      <td>...</td>\n",
       "      <td>0</td>\n",
       "      <td>Sales staff</td>\n",
       "      <td>2.0</td>\n",
       "      <td>0.0</td>\n",
       "      <td>1</td>\n",
       "      <td>41</td>\n",
       "      <td>5</td>\n",
       "      <td>3.0</td>\n",
       "      <td>11.786962</td>\n",
       "      <td>11.525358</td>\n",
       "    </tr>\n",
       "    <tr>\n",
       "      <th>4</th>\n",
       "      <td>0</td>\n",
       "      <td>1</td>\n",
       "      <td>1</td>\n",
       "      <td>0</td>\n",
       "      <td>16.834715</td>\n",
       "      <td>State servant</td>\n",
       "      <td>Higher education</td>\n",
       "      <td>Married</td>\n",
       "      <td>House / apartment</td>\n",
       "      <td>0</td>\n",
       "      <td>...</td>\n",
       "      <td>0</td>\n",
       "      <td>Managers</td>\n",
       "      <td>2.0</td>\n",
       "      <td>2.0</td>\n",
       "      <td>1</td>\n",
       "      <td>41</td>\n",
       "      <td>5</td>\n",
       "      <td>2.0</td>\n",
       "      <td>9.187959</td>\n",
       "      <td>11.274046</td>\n",
       "    </tr>\n",
       "    <tr>\n",
       "      <th>5</th>\n",
       "      <td>0</td>\n",
       "      <td>0</td>\n",
       "      <td>1</td>\n",
       "      <td>2</td>\n",
       "      <td>17.373712</td>\n",
       "      <td>Working</td>\n",
       "      <td>Secondary / secondary special</td>\n",
       "      <td>Married</td>\n",
       "      <td>House / apartment</td>\n",
       "      <td>0</td>\n",
       "      <td>...</td>\n",
       "      <td>1</td>\n",
       "      <td>High skill tech staff</td>\n",
       "      <td>4.0</td>\n",
       "      <td>1.0</td>\n",
       "      <td>1</td>\n",
       "      <td>36</td>\n",
       "      <td>13</td>\n",
       "      <td>1.0</td>\n",
       "      <td>14.666739</td>\n",
       "      <td>11.119898</td>\n",
       "    </tr>\n",
       "  </tbody>\n",
       "</table>\n",
       "<p>5 rows × 21 columns</p>\n",
       "</div>"
      ],
      "text/plain": [
       "   gender  car  reality  child_num  income_total           income_type  \\\n",
       "1       0    0        1          1     17.286700  Commercial associate   \n",
       "2       1    1        1          0     17.884537               Working   \n",
       "3       0    0        1          0     17.086030  Commercial associate   \n",
       "4       0    1        1          0     16.834715         State servant   \n",
       "5       0    0        1          2     17.373712               Working   \n",
       "\n",
       "                        edu_type     family_type         house_type  \\\n",
       "1  Secondary / secondary special  Civil marriage  House / apartment   \n",
       "2               Higher education         Married  House / apartment   \n",
       "3  Secondary / secondary special         Married  House / apartment   \n",
       "4               Higher education         Married  House / apartment   \n",
       "5  Secondary / secondary special         Married  House / apartment   \n",
       "\n",
       "   work_phone  ...  email             occyp_type family_size  credit  working  \\\n",
       "1           0  ...      1               Laborers         3.0     1.0        1   \n",
       "2           0  ...      0               Managers         2.0     2.0        1   \n",
       "3           0  ...      0            Sales staff         2.0     0.0        1   \n",
       "4           0  ...      0               Managers         2.0     2.0        1   \n",
       "5           0  ...      1  High skill tech staff         4.0     1.0        1   \n",
       "\n",
       "   year  work_year  card Issuance    ability  income_mean  \n",
       "1    31          4            0.0  19.156347    11.320566  \n",
       "2    52         12            1.0  19.131840    12.323860  \n",
       "3    41          5            3.0  11.786962    11.525358  \n",
       "4    41          5            2.0   9.187959    11.274046  \n",
       "5    36         13            1.0  14.666739    11.119898  \n",
       "\n",
       "[5 rows x 21 columns]"
      ]
     },
     "execution_count": 55,
     "metadata": {},
     "output_type": "execute_result"
    }
   ],
   "source": [
    "data.head()"
   ]
  },
  {
   "cell_type": "code",
   "execution_count": 56,
   "id": "87191c8c",
   "metadata": {
    "scrolled": true
   },
   "outputs": [],
   "source": [
    "data = data.drop(columns = 'working')"
   ]
  },
  {
   "cell_type": "code",
   "execution_count": 83,
   "id": "bee02bef",
   "metadata": {},
   "outputs": [
    {
     "data": {
      "text/plain": [
       "Index(['성별', '차유뮤', '부동산유무', '자녀수', '연간소득', '소득분류', '교육', '가정', '집',\n",
       "       '업무용핸드폰유무', '핸드폰유무', '이메일유무', '직업유형', '가족수', '신용등급', '나이', '연차',\n",
       "       '카드발급년수', '능력', '가족평균수입'],\n",
       "      dtype='object')"
      ]
     },
     "execution_count": 83,
     "metadata": {},
     "output_type": "execute_result"
    }
   ],
   "source": [
    "data.columns"
   ]
  },
  {
   "cell_type": "code",
   "execution_count": 57,
   "id": "1c4a0691",
   "metadata": {},
   "outputs": [],
   "source": [
    "data.columns = ['성별', '차유뮤', '부동산유무', '자녀수', '연간소득', '소득분류',\n",
    "       '교육','가정', '집','업무용핸드폰유무','핸드폰유무','이메일유무','직업유형','가족수','신용등급', '나이','연차','카드발급년수', '능력', '가족평균수입']"
   ]
  },
  {
   "cell_type": "code",
   "execution_count": 95,
   "id": "4c3e1e91",
   "metadata": {},
   "outputs": [
    {
     "data": {
      "text/plain": [
       "6.649591     15\n",
       "11.113855    14\n",
       "10.071620    14\n",
       "15.837466    14\n",
       "11.331587    14\n",
       "             ..\n",
       "33.720495     1\n",
       "12.748598     1\n",
       "4.734682      1\n",
       "13.348363     1\n",
       "11.690271     1\n",
       "Name: 능력, Length: 7453, dtype: int64"
      ]
     },
     "execution_count": 95,
     "metadata": {},
     "output_type": "execute_result"
    }
   ],
   "source": [
    "data[''].value_counts()"
   ]
  },
  {
   "cell_type": "code",
   "execution_count": 96,
   "id": "035f5e0c",
   "metadata": {},
   "outputs": [
    {
     "data": {
      "text/plain": [
       "카드발급년수\n",
       "0.0    5286\n",
       "1.0    5135\n",
       "2.0    4433\n",
       "3.0    3821\n",
       "4.0    2869\n",
       "5.0     225\n",
       "Name: 성별, dtype: int64"
      ]
     },
     "execution_count": 96,
     "metadata": {},
     "output_type": "execute_result"
    }
   ],
   "source": [
    "data.groupby(['카드발급년수'])['성별'].count()"
   ]
  },
  {
   "cell_type": "code",
   "execution_count": 60,
   "id": "66e3ab53",
   "metadata": {},
   "outputs": [],
   "source": [
    "data.to_csv('신용등급예측.csv', index=False, encoding= 'CP949')"
   ]
  },
  {
   "cell_type": "code",
   "execution_count": 61,
   "id": "fbe8416b",
   "metadata": {},
   "outputs": [],
   "source": [
    "df = pd.read_csv('신용등급예측.csv', encoding = 'CP949')"
   ]
  },
  {
   "cell_type": "code",
   "execution_count": 62,
   "id": "9b9fe2a2",
   "metadata": {
    "scrolled": false
   },
   "outputs": [
    {
     "data": {
      "text/html": [
       "<div>\n",
       "<style scoped>\n",
       "    .dataframe tbody tr th:only-of-type {\n",
       "        vertical-align: middle;\n",
       "    }\n",
       "\n",
       "    .dataframe tbody tr th {\n",
       "        vertical-align: top;\n",
       "    }\n",
       "\n",
       "    .dataframe thead th {\n",
       "        text-align: right;\n",
       "    }\n",
       "</style>\n",
       "<table border=\"1\" class=\"dataframe\">\n",
       "  <thead>\n",
       "    <tr style=\"text-align: right;\">\n",
       "      <th></th>\n",
       "      <th>성별</th>\n",
       "      <th>차유뮤</th>\n",
       "      <th>부동산유무</th>\n",
       "      <th>자녀수</th>\n",
       "      <th>연간소득</th>\n",
       "      <th>소득분류</th>\n",
       "      <th>교육</th>\n",
       "      <th>가정</th>\n",
       "      <th>집</th>\n",
       "      <th>업무용핸드폰유무</th>\n",
       "      <th>핸드폰유무</th>\n",
       "      <th>이메일유무</th>\n",
       "      <th>직업유형</th>\n",
       "      <th>가족수</th>\n",
       "      <th>신용등급</th>\n",
       "      <th>나이</th>\n",
       "      <th>연차</th>\n",
       "      <th>카드발급년수</th>\n",
       "      <th>능력</th>\n",
       "      <th>가족평균수입</th>\n",
       "    </tr>\n",
       "  </thead>\n",
       "  <tbody>\n",
       "    <tr>\n",
       "      <th>0</th>\n",
       "      <td>0</td>\n",
       "      <td>0</td>\n",
       "      <td>1</td>\n",
       "      <td>1</td>\n",
       "      <td>17.286700</td>\n",
       "      <td>Commercial associate</td>\n",
       "      <td>Secondary / secondary special</td>\n",
       "      <td>Civil marriage</td>\n",
       "      <td>House / apartment</td>\n",
       "      <td>0</td>\n",
       "      <td>0</td>\n",
       "      <td>1</td>\n",
       "      <td>Laborers</td>\n",
       "      <td>3.0</td>\n",
       "      <td>1.0</td>\n",
       "      <td>31</td>\n",
       "      <td>4</td>\n",
       "      <td>0.0</td>\n",
       "      <td>19.156347</td>\n",
       "      <td>11.320566</td>\n",
       "    </tr>\n",
       "    <tr>\n",
       "      <th>1</th>\n",
       "      <td>1</td>\n",
       "      <td>1</td>\n",
       "      <td>1</td>\n",
       "      <td>0</td>\n",
       "      <td>17.884537</td>\n",
       "      <td>Working</td>\n",
       "      <td>Higher education</td>\n",
       "      <td>Married</td>\n",
       "      <td>House / apartment</td>\n",
       "      <td>0</td>\n",
       "      <td>1</td>\n",
       "      <td>0</td>\n",
       "      <td>Managers</td>\n",
       "      <td>2.0</td>\n",
       "      <td>2.0</td>\n",
       "      <td>52</td>\n",
       "      <td>12</td>\n",
       "      <td>1.0</td>\n",
       "      <td>19.131840</td>\n",
       "      <td>12.323860</td>\n",
       "    </tr>\n",
       "    <tr>\n",
       "      <th>2</th>\n",
       "      <td>0</td>\n",
       "      <td>0</td>\n",
       "      <td>1</td>\n",
       "      <td>0</td>\n",
       "      <td>17.086030</td>\n",
       "      <td>Commercial associate</td>\n",
       "      <td>Secondary / secondary special</td>\n",
       "      <td>Married</td>\n",
       "      <td>House / apartment</td>\n",
       "      <td>0</td>\n",
       "      <td>1</td>\n",
       "      <td>0</td>\n",
       "      <td>Sales staff</td>\n",
       "      <td>2.0</td>\n",
       "      <td>0.0</td>\n",
       "      <td>41</td>\n",
       "      <td>5</td>\n",
       "      <td>3.0</td>\n",
       "      <td>11.786962</td>\n",
       "      <td>11.525358</td>\n",
       "    </tr>\n",
       "    <tr>\n",
       "      <th>3</th>\n",
       "      <td>0</td>\n",
       "      <td>1</td>\n",
       "      <td>1</td>\n",
       "      <td>0</td>\n",
       "      <td>16.834715</td>\n",
       "      <td>State servant</td>\n",
       "      <td>Higher education</td>\n",
       "      <td>Married</td>\n",
       "      <td>House / apartment</td>\n",
       "      <td>0</td>\n",
       "      <td>0</td>\n",
       "      <td>0</td>\n",
       "      <td>Managers</td>\n",
       "      <td>2.0</td>\n",
       "      <td>2.0</td>\n",
       "      <td>41</td>\n",
       "      <td>5</td>\n",
       "      <td>2.0</td>\n",
       "      <td>9.187959</td>\n",
       "      <td>11.274046</td>\n",
       "    </tr>\n",
       "    <tr>\n",
       "      <th>4</th>\n",
       "      <td>0</td>\n",
       "      <td>0</td>\n",
       "      <td>1</td>\n",
       "      <td>2</td>\n",
       "      <td>17.373712</td>\n",
       "      <td>Working</td>\n",
       "      <td>Secondary / secondary special</td>\n",
       "      <td>Married</td>\n",
       "      <td>House / apartment</td>\n",
       "      <td>0</td>\n",
       "      <td>0</td>\n",
       "      <td>1</td>\n",
       "      <td>High skill tech staff</td>\n",
       "      <td>4.0</td>\n",
       "      <td>1.0</td>\n",
       "      <td>36</td>\n",
       "      <td>13</td>\n",
       "      <td>1.0</td>\n",
       "      <td>14.666739</td>\n",
       "      <td>11.119898</td>\n",
       "    </tr>\n",
       "    <tr>\n",
       "      <th>...</th>\n",
       "      <td>...</td>\n",
       "      <td>...</td>\n",
       "      <td>...</td>\n",
       "      <td>...</td>\n",
       "      <td>...</td>\n",
       "      <td>...</td>\n",
       "      <td>...</td>\n",
       "      <td>...</td>\n",
       "      <td>...</td>\n",
       "      <td>...</td>\n",
       "      <td>...</td>\n",
       "      <td>...</td>\n",
       "      <td>...</td>\n",
       "      <td>...</td>\n",
       "      <td>...</td>\n",
       "      <td>...</td>\n",
       "      <td>...</td>\n",
       "      <td>...</td>\n",
       "      <td>...</td>\n",
       "      <td>...</td>\n",
       "    </tr>\n",
       "    <tr>\n",
       "      <th>21764</th>\n",
       "      <td>1</td>\n",
       "      <td>0</td>\n",
       "      <td>0</td>\n",
       "      <td>1</td>\n",
       "      <td>17.108009</td>\n",
       "      <td>State servant</td>\n",
       "      <td>Higher education</td>\n",
       "      <td>Married</td>\n",
       "      <td>Office apartment</td>\n",
       "      <td>0</td>\n",
       "      <td>0</td>\n",
       "      <td>0</td>\n",
       "      <td>Core staff</td>\n",
       "      <td>3.0</td>\n",
       "      <td>NaN</td>\n",
       "      <td>40</td>\n",
       "      <td>7</td>\n",
       "      <td>2.0</td>\n",
       "      <td>11.819116</td>\n",
       "      <td>11.141876</td>\n",
       "    </tr>\n",
       "    <tr>\n",
       "      <th>21765</th>\n",
       "      <td>1</td>\n",
       "      <td>1</td>\n",
       "      <td>1</td>\n",
       "      <td>0</td>\n",
       "      <td>17.086030</td>\n",
       "      <td>Working</td>\n",
       "      <td>Secondary / secondary special</td>\n",
       "      <td>Civil marriage</td>\n",
       "      <td>House / apartment</td>\n",
       "      <td>1</td>\n",
       "      <td>0</td>\n",
       "      <td>0</td>\n",
       "      <td>Laborers</td>\n",
       "      <td>2.0</td>\n",
       "      <td>NaN</td>\n",
       "      <td>29</td>\n",
       "      <td>3</td>\n",
       "      <td>2.0</td>\n",
       "      <td>16.597000</td>\n",
       "      <td>11.525358</td>\n",
       "    </tr>\n",
       "    <tr>\n",
       "      <th>21766</th>\n",
       "      <td>0</td>\n",
       "      <td>0</td>\n",
       "      <td>1</td>\n",
       "      <td>0</td>\n",
       "      <td>17.453754</td>\n",
       "      <td>Working</td>\n",
       "      <td>Secondary / secondary special</td>\n",
       "      <td>Married</td>\n",
       "      <td>House / apartment</td>\n",
       "      <td>0</td>\n",
       "      <td>0</td>\n",
       "      <td>0</td>\n",
       "      <td>Medicine staff</td>\n",
       "      <td>2.0</td>\n",
       "      <td>NaN</td>\n",
       "      <td>57</td>\n",
       "      <td>38</td>\n",
       "      <td>4.0</td>\n",
       "      <td>8.349032</td>\n",
       "      <td>11.893080</td>\n",
       "    </tr>\n",
       "    <tr>\n",
       "      <th>21767</th>\n",
       "      <td>0</td>\n",
       "      <td>1</td>\n",
       "      <td>0</td>\n",
       "      <td>0</td>\n",
       "      <td>16.968247</td>\n",
       "      <td>Commercial associate</td>\n",
       "      <td>Secondary / secondary special</td>\n",
       "      <td>Married</td>\n",
       "      <td>House / apartment</td>\n",
       "      <td>0</td>\n",
       "      <td>1</td>\n",
       "      <td>0</td>\n",
       "      <td>no_working</td>\n",
       "      <td>2.0</td>\n",
       "      <td>NaN</td>\n",
       "      <td>45</td>\n",
       "      <td>2</td>\n",
       "      <td>2.0</td>\n",
       "      <td>10.212187</td>\n",
       "      <td>11.407576</td>\n",
       "    </tr>\n",
       "    <tr>\n",
       "      <th>21768</th>\n",
       "      <td>0</td>\n",
       "      <td>0</td>\n",
       "      <td>1</td>\n",
       "      <td>0</td>\n",
       "      <td>17.373712</td>\n",
       "      <td>Working</td>\n",
       "      <td>Higher education</td>\n",
       "      <td>Married</td>\n",
       "      <td>House / apartment</td>\n",
       "      <td>0</td>\n",
       "      <td>0</td>\n",
       "      <td>1</td>\n",
       "      <td>Laborers</td>\n",
       "      <td>2.0</td>\n",
       "      <td>NaN</td>\n",
       "      <td>25</td>\n",
       "      <td>0</td>\n",
       "      <td>0.0</td>\n",
       "      <td>28.904828</td>\n",
       "      <td>11.813037</td>\n",
       "    </tr>\n",
       "  </tbody>\n",
       "</table>\n",
       "<p>21769 rows × 20 columns</p>\n",
       "</div>"
      ],
      "text/plain": [
       "       성별  차유뮤  부동산유무  자녀수       연간소득                  소득분류  \\\n",
       "0       0    0      1    1  17.286700  Commercial associate   \n",
       "1       1    1      1    0  17.884537               Working   \n",
       "2       0    0      1    0  17.086030  Commercial associate   \n",
       "3       0    1      1    0  16.834715         State servant   \n",
       "4       0    0      1    2  17.373712               Working   \n",
       "...    ..  ...    ...  ...        ...                   ...   \n",
       "21764   1    0      0    1  17.108009         State servant   \n",
       "21765   1    1      1    0  17.086030               Working   \n",
       "21766   0    0      1    0  17.453754               Working   \n",
       "21767   0    1      0    0  16.968247  Commercial associate   \n",
       "21768   0    0      1    0  17.373712               Working   \n",
       "\n",
       "                                  교육              가정                  집  \\\n",
       "0      Secondary / secondary special  Civil marriage  House / apartment   \n",
       "1                   Higher education         Married  House / apartment   \n",
       "2      Secondary / secondary special         Married  House / apartment   \n",
       "3                   Higher education         Married  House / apartment   \n",
       "4      Secondary / secondary special         Married  House / apartment   \n",
       "...                              ...             ...                ...   \n",
       "21764               Higher education         Married   Office apartment   \n",
       "21765  Secondary / secondary special  Civil marriage  House / apartment   \n",
       "21766  Secondary / secondary special         Married  House / apartment   \n",
       "21767  Secondary / secondary special         Married  House / apartment   \n",
       "21768               Higher education         Married  House / apartment   \n",
       "\n",
       "       업무용핸드폰유무  핸드폰유무  이메일유무                   직업유형  가족수  신용등급  나이  연차  \\\n",
       "0             0      0      1               Laborers  3.0   1.0  31   4   \n",
       "1             0      1      0               Managers  2.0   2.0  52  12   \n",
       "2             0      1      0            Sales staff  2.0   0.0  41   5   \n",
       "3             0      0      0               Managers  2.0   2.0  41   5   \n",
       "4             0      0      1  High skill tech staff  4.0   1.0  36  13   \n",
       "...         ...    ...    ...                    ...  ...   ...  ..  ..   \n",
       "21764         0      0      0             Core staff  3.0   NaN  40   7   \n",
       "21765         1      0      0               Laborers  2.0   NaN  29   3   \n",
       "21766         0      0      0         Medicine staff  2.0   NaN  57  38   \n",
       "21767         0      1      0             no_working  2.0   NaN  45   2   \n",
       "21768         0      0      1               Laborers  2.0   NaN  25   0   \n",
       "\n",
       "       카드발급년수         능력     가족평균수입  \n",
       "0         0.0  19.156347  11.320566  \n",
       "1         1.0  19.131840  12.323860  \n",
       "2         3.0  11.786962  11.525358  \n",
       "3         2.0   9.187959  11.274046  \n",
       "4         1.0  14.666739  11.119898  \n",
       "...       ...        ...        ...  \n",
       "21764     2.0  11.819116  11.141876  \n",
       "21765     2.0  16.597000  11.525358  \n",
       "21766     4.0   8.349032  11.893080  \n",
       "21767     2.0  10.212187  11.407576  \n",
       "21768     0.0  28.904828  11.813037  \n",
       "\n",
       "[21769 rows x 20 columns]"
      ]
     },
     "execution_count": 62,
     "metadata": {},
     "output_type": "execute_result"
    }
   ],
   "source": [
    "df"
   ]
  },
  {
   "cell_type": "markdown",
   "id": "1328bdbd",
   "metadata": {},
   "source": [
    "0 Accountants               \n",
    "1 Cleaning staff            \n",
    "2 Cooking staff             \n",
    "3 Core staff              \n",
    "4 Drivers               \n",
    "5 HR staff                   \n",
    "6 High skill tech staff    \n",
    "7 IT staff                  \n",
    "8 Laborers                 \n",
    "9 Low-skill Laborers    \n",
    "10 Managers                 \n",
    "11 Medicine staff            \n",
    "12 Private service staff     \n",
    "13 Realty agents          \n",
    "14 Sales staff             \n",
    "15 Secretaries               \n",
    "16 Security staff            \n",
    "17 Waiters/barmen staff      \n",
    "18 no_working               \n"
   ]
  },
  {
   "cell_type": "code",
   "execution_count": 63,
   "id": "a2260288",
   "metadata": {},
   "outputs": [],
   "source": [
    "X_train = df.loc[:15835,:]\n",
    "X_test = df.loc[15836:,:]"
   ]
  },
  {
   "cell_type": "code",
   "execution_count": 64,
   "id": "d8e05fd1",
   "metadata": {
    "scrolled": true
   },
   "outputs": [
    {
     "data": {
      "text/plain": [
       "15831    1.0\n",
       "15832    2.0\n",
       "15833    2.0\n",
       "15834    2.0\n",
       "15835    2.0\n",
       "Name: 신용등급, dtype: float64"
      ]
     },
     "execution_count": 64,
     "metadata": {},
     "output_type": "execute_result"
    }
   ],
   "source": [
    "X_train['신용등급'].tail()"
   ]
  },
  {
   "cell_type": "code",
   "execution_count": 65,
   "id": "58be6a58",
   "metadata": {},
   "outputs": [
    {
     "data": {
      "text/plain": [
       "15836   NaN\n",
       "15837   NaN\n",
       "15838   NaN\n",
       "15839   NaN\n",
       "15840   NaN\n",
       "Name: 신용등급, dtype: float64"
      ]
     },
     "execution_count": 65,
     "metadata": {},
     "output_type": "execute_result"
    }
   ],
   "source": [
    "X_test['신용등급'].head()"
   ]
  },
  {
   "cell_type": "code",
   "execution_count": 66,
   "id": "1513db6a",
   "metadata": {},
   "outputs": [
    {
     "data": {
      "text/plain": [
       "(15836, 20)"
      ]
     },
     "execution_count": 66,
     "metadata": {},
     "output_type": "execute_result"
    }
   ],
   "source": [
    "X_train.shape"
   ]
  },
  {
   "cell_type": "code",
   "execution_count": 67,
   "id": "2f6818f7",
   "metadata": {
    "scrolled": true
   },
   "outputs": [
    {
     "data": {
      "text/plain": [
       "(5933, 20)"
      ]
     },
     "execution_count": 67,
     "metadata": {},
     "output_type": "execute_result"
    }
   ],
   "source": [
    "X_test.shape"
   ]
  },
  {
   "cell_type": "code",
   "execution_count": 68,
   "id": "33eac2c0",
   "metadata": {
    "scrolled": false
   },
   "outputs": [
    {
     "name": "stderr",
     "output_type": "stream",
     "text": [
      "<ipython-input-68-2f9c29b67f66>:7: SettingWithCopyWarning: \n",
      "A value is trying to be set on a copy of a slice from a DataFrame.\n",
      "Try using .loc[row_indexer,col_indexer] = value instead\n",
      "\n",
      "See the caveats in the documentation: https://pandas.pydata.org/pandas-docs/stable/user_guide/indexing.html#returning-a-view-versus-a-copy\n",
      "  X_train['소득분류'] = scaler.transform(X_train['소득분류'])\n",
      "<ipython-input-68-2f9c29b67f66>:8: SettingWithCopyWarning: \n",
      "A value is trying to be set on a copy of a slice from a DataFrame.\n",
      "Try using .loc[row_indexer,col_indexer] = value instead\n",
      "\n",
      "See the caveats in the documentation: https://pandas.pydata.org/pandas-docs/stable/user_guide/indexing.html#returning-a-view-versus-a-copy\n",
      "  X_test['소득분류'] = scaler.transform(X_test['소득분류'])\n",
      "<ipython-input-68-2f9c29b67f66>:11: SettingWithCopyWarning: \n",
      "A value is trying to be set on a copy of a slice from a DataFrame.\n",
      "Try using .loc[row_indexer,col_indexer] = value instead\n",
      "\n",
      "See the caveats in the documentation: https://pandas.pydata.org/pandas-docs/stable/user_guide/indexing.html#returning-a-view-versus-a-copy\n",
      "  X_train['교육'] = scaler.transform(X_train['교육'])\n",
      "<ipython-input-68-2f9c29b67f66>:12: SettingWithCopyWarning: \n",
      "A value is trying to be set on a copy of a slice from a DataFrame.\n",
      "Try using .loc[row_indexer,col_indexer] = value instead\n",
      "\n",
      "See the caveats in the documentation: https://pandas.pydata.org/pandas-docs/stable/user_guide/indexing.html#returning-a-view-versus-a-copy\n",
      "  X_test['교육'] = scaler.transform(X_test['교육'])\n",
      "<ipython-input-68-2f9c29b67f66>:15: SettingWithCopyWarning: \n",
      "A value is trying to be set on a copy of a slice from a DataFrame.\n",
      "Try using .loc[row_indexer,col_indexer] = value instead\n",
      "\n",
      "See the caveats in the documentation: https://pandas.pydata.org/pandas-docs/stable/user_guide/indexing.html#returning-a-view-versus-a-copy\n",
      "  X_train['가정'] = scaler.transform(X_train['가정'])\n",
      "<ipython-input-68-2f9c29b67f66>:16: SettingWithCopyWarning: \n",
      "A value is trying to be set on a copy of a slice from a DataFrame.\n",
      "Try using .loc[row_indexer,col_indexer] = value instead\n",
      "\n",
      "See the caveats in the documentation: https://pandas.pydata.org/pandas-docs/stable/user_guide/indexing.html#returning-a-view-versus-a-copy\n",
      "  X_test['가정'] = scaler.transform(X_test['가정'])\n",
      "<ipython-input-68-2f9c29b67f66>:19: SettingWithCopyWarning: \n",
      "A value is trying to be set on a copy of a slice from a DataFrame.\n",
      "Try using .loc[row_indexer,col_indexer] = value instead\n",
      "\n",
      "See the caveats in the documentation: https://pandas.pydata.org/pandas-docs/stable/user_guide/indexing.html#returning-a-view-versus-a-copy\n",
      "  X_train['집'] = scaler.transform(X_train['집'])\n",
      "<ipython-input-68-2f9c29b67f66>:20: SettingWithCopyWarning: \n",
      "A value is trying to be set on a copy of a slice from a DataFrame.\n",
      "Try using .loc[row_indexer,col_indexer] = value instead\n",
      "\n",
      "See the caveats in the documentation: https://pandas.pydata.org/pandas-docs/stable/user_guide/indexing.html#returning-a-view-versus-a-copy\n",
      "  X_test['집'] = scaler.transform(X_test['집'])\n",
      "<ipython-input-68-2f9c29b67f66>:23: SettingWithCopyWarning: \n",
      "A value is trying to be set on a copy of a slice from a DataFrame.\n",
      "Try using .loc[row_indexer,col_indexer] = value instead\n",
      "\n",
      "See the caveats in the documentation: https://pandas.pydata.org/pandas-docs/stable/user_guide/indexing.html#returning-a-view-versus-a-copy\n",
      "  X_train['직업유형'] = scaler.transform(X_train['직업유형'])\n",
      "<ipython-input-68-2f9c29b67f66>:24: SettingWithCopyWarning: \n",
      "A value is trying to be set on a copy of a slice from a DataFrame.\n",
      "Try using .loc[row_indexer,col_indexer] = value instead\n",
      "\n",
      "See the caveats in the documentation: https://pandas.pydata.org/pandas-docs/stable/user_guide/indexing.html#returning-a-view-versus-a-copy\n",
      "  X_test['직업유형'] = scaler.transform(X_test['직업유형'])\n"
     ]
    }
   ],
   "source": [
    "from sklearn.model_selection import train_test_split\n",
    "from sklearn.preprocessing import LabelEncoder\n",
    "\n",
    "scaler = LabelEncoder()\n",
    "\n",
    "scaler.fit(X_train['소득분류'])\n",
    "X_train['소득분류'] = scaler.transform(X_train['소득분류'])\n",
    "X_test['소득분류'] = scaler.transform(X_test['소득분류'])\n",
    "\n",
    "scaler.fit(X_train['교육'])\n",
    "X_train['교육'] = scaler.transform(X_train['교육'])\n",
    "X_test['교육'] = scaler.transform(X_test['교육'])\n",
    "\n",
    "scaler.fit(X_train['가정'])\n",
    "X_train['가정'] = scaler.transform(X_train['가정'])\n",
    "X_test['가정'] = scaler.transform(X_test['가정'])\n",
    "\n",
    "scaler.fit(X_train['집'])\n",
    "X_train['집'] = scaler.transform(X_train['집'])\n",
    "X_test['집'] = scaler.transform(X_test['집'])\n",
    "\n",
    "scaler.fit(X_train['직업유형'])\n",
    "X_train['직업유형'] = scaler.transform(X_train['직업유형'])\n",
    "X_test['직업유형'] = scaler.transform(X_test['직업유형'])"
   ]
  },
  {
   "cell_type": "code",
   "execution_count": 69,
   "id": "92ac3def",
   "metadata": {
    "scrolled": true
   },
   "outputs": [],
   "source": [
    "X_train.to_csv('신용등급분석_train.csv', encoding = 'CP949', index = False)\n",
    "X_test.to_csv('신용등급분석_test.csv', encoding = 'CP949', index = False)"
   ]
  },
  {
   "cell_type": "code",
   "execution_count": 70,
   "id": "0fce5f7c",
   "metadata": {},
   "outputs": [],
   "source": [
    "X_train_0 = X_train\n",
    "X_test_0 = X_test"
   ]
  },
  {
   "cell_type": "code",
   "execution_count": 71,
   "id": "8910e3d2",
   "metadata": {
    "scrolled": true
   },
   "outputs": [],
   "source": [
    "X_train = X_train_0.drop(columns = '신용등급')\n",
    "y_train = X_train_0['신용등급']\n",
    "\n",
    "X_test = X_test_0.drop(columns ='신용등급')\n",
    "y_test = X_test_0['신용등급']"
   ]
  },
  {
   "cell_type": "code",
   "execution_count": 72,
   "id": "78d7f559",
   "metadata": {},
   "outputs": [
    {
     "name": "stderr",
     "output_type": "stream",
     "text": [
      "C:\\Users\\Samsung\\Anaconda\\lib\\site-packages\\sklearn\\linear_model\\_logistic.py:814: ConvergenceWarning: lbfgs failed to converge (status=1):\n",
      "STOP: TOTAL NO. of ITERATIONS REACHED LIMIT.\n",
      "\n",
      "Increase the number of iterations (max_iter) or scale the data as shown in:\n",
      "    https://scikit-learn.org/stable/modules/preprocessing.html\n",
      "Please also refer to the documentation for alternative solver options:\n",
      "    https://scikit-learn.org/stable/modules/linear_model.html#logistic-regression\n",
      "  n_iter_i = _check_optimize_result(\n"
     ]
    }
   ],
   "source": [
    "#  스케일링 및 모델 튜닝\n",
    "\n",
    "from sklearn.preprocessing import StandardScaler\n",
    "from sklearn.linear_model import LogisticRegression\n",
    "from xgboost import XGBClassifier\n",
    "\n",
    "model = LogisticRegression()\n",
    "model.fit(X_train, y_train)\n",
    "y_hat = model.predict(X_test)"
   ]
  },
  {
   "cell_type": "code",
   "execution_count": 73,
   "id": "ee3b9b5c",
   "metadata": {},
   "outputs": [],
   "source": [
    "df_y_hat = pd.DataFrame(y_hat)"
   ]
  },
  {
   "cell_type": "code",
   "execution_count": 74,
   "id": "c8c3e8e3",
   "metadata": {},
   "outputs": [
    {
     "data": {
      "text/plain": [
       "2.0    5933\n",
       "dtype: int64"
      ]
     },
     "execution_count": 74,
     "metadata": {},
     "output_type": "execute_result"
    }
   ],
   "source": [
    "df_y_hat.value_counts()"
   ]
  },
  {
   "cell_type": "code",
   "execution_count": 75,
   "id": "65d232d2",
   "metadata": {
    "scrolled": true
   },
   "outputs": [
    {
     "data": {
      "text/plain": [
       "0.6287572619348321"
      ]
     },
     "execution_count": 75,
     "metadata": {},
     "output_type": "execute_result"
    }
   ],
   "source": [
    "model.score(X_train,y_train)"
   ]
  },
  {
   "cell_type": "markdown",
   "id": "51d7afe6",
   "metadata": {},
   "source": [
    "# XGBOOST"
   ]
  },
  {
   "cell_type": "code",
   "execution_count": 76,
   "id": "6c611bcb",
   "metadata": {},
   "outputs": [
    {
     "name": "stderr",
     "output_type": "stream",
     "text": [
      "C:\\Users\\Samsung\\Anaconda\\lib\\site-packages\\xgboost\\sklearn.py:1224: UserWarning: The use of label encoder in XGBClassifier is deprecated and will be removed in a future release. To remove this warning, do the following: 1) Pass option use_label_encoder=False when constructing XGBClassifier object; and 2) Encode your labels (y) as integers starting with 0, i.e. 0, 1, 2, ..., [num_class - 1].\n",
      "  warnings.warn(label_encoder_deprecation_msg, UserWarning)\n"
     ]
    },
    {
     "name": "stdout",
     "output_type": "stream",
     "text": [
      "[21:10:25] WARNING: C:/Users/Administrator/workspace/xgboost-win64_release_1.5.0/src/learner.cc:1115: Starting in XGBoost 1.3.0, the default evaluation metric used with the objective 'multi:softprob' was changed from 'merror' to 'mlogloss'. Explicitly set eval_metric if you'd like to restore the old behavior.\n"
     ]
    }
   ],
   "source": [
    "#  스케일링 및 모델 튜닝\n",
    "\n",
    "from sklearn.preprocessing import StandardScaler\n",
    "from sklearn.linear_model import LogisticRegression\n",
    "from xgboost import XGBClassifier\n",
    "\n",
    "model = XGBClassifier()\n",
    "model.fit(X_train, y_train)\n",
    "y_hat = model.predict(X_test)"
   ]
  },
  {
   "cell_type": "code",
   "execution_count": 77,
   "id": "348b7469",
   "metadata": {
    "scrolled": true
   },
   "outputs": [
    {
     "name": "stderr",
     "output_type": "stream",
     "text": [
      "C:\\Users\\Samsung\\Anaconda\\lib\\site-packages\\xgboost\\sklearn.py:1224: UserWarning: The use of label encoder in XGBClassifier is deprecated and will be removed in a future release. To remove this warning, do the following: 1) Pass option use_label_encoder=False when constructing XGBClassifier object; and 2) Encode your labels (y) as integers starting with 0, i.e. 0, 1, 2, ..., [num_class - 1].\n",
      "  warnings.warn(label_encoder_deprecation_msg, UserWarning)\n"
     ]
    },
    {
     "name": "stdout",
     "output_type": "stream",
     "text": [
      "[21:10:27] WARNING: C:/Users/Administrator/workspace/xgboost-win64_release_1.5.0/src/learner.cc:1115: Starting in XGBoost 1.3.0, the default evaluation metric used with the objective 'multi:softprob' was changed from 'merror' to 'mlogloss'. Explicitly set eval_metric if you'd like to restore the old behavior.\n"
     ]
    },
    {
     "name": "stderr",
     "output_type": "stream",
     "text": [
      "C:\\Users\\Samsung\\Anaconda\\lib\\site-packages\\xgboost\\sklearn.py:1224: UserWarning: The use of label encoder in XGBClassifier is deprecated and will be removed in a future release. To remove this warning, do the following: 1) Pass option use_label_encoder=False when constructing XGBClassifier object; and 2) Encode your labels (y) as integers starting with 0, i.e. 0, 1, 2, ..., [num_class - 1].\n",
      "  warnings.warn(label_encoder_deprecation_msg, UserWarning)\n"
     ]
    },
    {
     "name": "stdout",
     "output_type": "stream",
     "text": [
      "[21:10:29] WARNING: C:/Users/Administrator/workspace/xgboost-win64_release_1.5.0/src/learner.cc:1115: Starting in XGBoost 1.3.0, the default evaluation metric used with the objective 'multi:softprob' was changed from 'merror' to 'mlogloss'. Explicitly set eval_metric if you'd like to restore the old behavior.\n"
     ]
    },
    {
     "name": "stderr",
     "output_type": "stream",
     "text": [
      "C:\\Users\\Samsung\\Anaconda\\lib\\site-packages\\xgboost\\sklearn.py:1224: UserWarning: The use of label encoder in XGBClassifier is deprecated and will be removed in a future release. To remove this warning, do the following: 1) Pass option use_label_encoder=False when constructing XGBClassifier object; and 2) Encode your labels (y) as integers starting with 0, i.e. 0, 1, 2, ..., [num_class - 1].\n",
      "  warnings.warn(label_encoder_deprecation_msg, UserWarning)\n"
     ]
    },
    {
     "name": "stdout",
     "output_type": "stream",
     "text": [
      "[21:10:31] WARNING: C:/Users/Administrator/workspace/xgboost-win64_release_1.5.0/src/learner.cc:1115: Starting in XGBoost 1.3.0, the default evaluation metric used with the objective 'multi:softprob' was changed from 'merror' to 'mlogloss'. Explicitly set eval_metric if you'd like to restore the old behavior.\n"
     ]
    },
    {
     "name": "stderr",
     "output_type": "stream",
     "text": [
      "C:\\Users\\Samsung\\Anaconda\\lib\\site-packages\\xgboost\\sklearn.py:1224: UserWarning: The use of label encoder in XGBClassifier is deprecated and will be removed in a future release. To remove this warning, do the following: 1) Pass option use_label_encoder=False when constructing XGBClassifier object; and 2) Encode your labels (y) as integers starting with 0, i.e. 0, 1, 2, ..., [num_class - 1].\n",
      "  warnings.warn(label_encoder_deprecation_msg, UserWarning)\n"
     ]
    },
    {
     "name": "stdout",
     "output_type": "stream",
     "text": [
      "[21:10:33] WARNING: C:/Users/Administrator/workspace/xgboost-win64_release_1.5.0/src/learner.cc:1115: Starting in XGBoost 1.3.0, the default evaluation metric used with the objective 'multi:softprob' was changed from 'merror' to 'mlogloss'. Explicitly set eval_metric if you'd like to restore the old behavior.\n"
     ]
    },
    {
     "name": "stderr",
     "output_type": "stream",
     "text": [
      "C:\\Users\\Samsung\\Anaconda\\lib\\site-packages\\xgboost\\sklearn.py:1224: UserWarning: The use of label encoder in XGBClassifier is deprecated and will be removed in a future release. To remove this warning, do the following: 1) Pass option use_label_encoder=False when constructing XGBClassifier object; and 2) Encode your labels (y) as integers starting with 0, i.e. 0, 1, 2, ..., [num_class - 1].\n",
      "  warnings.warn(label_encoder_deprecation_msg, UserWarning)\n"
     ]
    },
    {
     "name": "stdout",
     "output_type": "stream",
     "text": [
      "[21:10:35] WARNING: C:/Users/Administrator/workspace/xgboost-win64_release_1.5.0/src/learner.cc:1115: Starting in XGBoost 1.3.0, the default evaluation metric used with the objective 'multi:softprob' was changed from 'merror' to 'mlogloss'. Explicitly set eval_metric if you'd like to restore the old behavior.\n"
     ]
    },
    {
     "data": {
      "text/plain": [
       "[0.603056077829128]"
      ]
     },
     "execution_count": 77,
     "metadata": {},
     "output_type": "execute_result"
    }
   ],
   "source": [
    "from sklearn.model_selection import cross_val_score\n",
    "\n",
    "lst_scores_mean = []\n",
    "\n",
    "scores = cross_val_score(model, X_train, y_train, cv=5)\n",
    "lst_scores_mean.append(np.mean(scores))\n",
    "\n",
    "\n",
    "lst_scores_mean"
   ]
  },
  {
   "cell_type": "markdown",
   "id": "3860c2f5",
   "metadata": {},
   "source": [
    "# Logistic Regression"
   ]
  },
  {
   "cell_type": "code",
   "execution_count": 78,
   "id": "79f68976",
   "metadata": {},
   "outputs": [
    {
     "name": "stderr",
     "output_type": "stream",
     "text": [
      "C:\\Users\\Samsung\\Anaconda\\lib\\site-packages\\sklearn\\linear_model\\_logistic.py:814: ConvergenceWarning: lbfgs failed to converge (status=1):\n",
      "STOP: TOTAL NO. of ITERATIONS REACHED LIMIT.\n",
      "\n",
      "Increase the number of iterations (max_iter) or scale the data as shown in:\n",
      "    https://scikit-learn.org/stable/modules/preprocessing.html\n",
      "Please also refer to the documentation for alternative solver options:\n",
      "    https://scikit-learn.org/stable/modules/linear_model.html#logistic-regression\n",
      "  n_iter_i = _check_optimize_result(\n",
      "C:\\Users\\Samsung\\Anaconda\\lib\\site-packages\\sklearn\\linear_model\\_logistic.py:814: ConvergenceWarning: lbfgs failed to converge (status=1):\n",
      "STOP: TOTAL NO. of ITERATIONS REACHED LIMIT.\n",
      "\n",
      "Increase the number of iterations (max_iter) or scale the data as shown in:\n",
      "    https://scikit-learn.org/stable/modules/preprocessing.html\n",
      "Please also refer to the documentation for alternative solver options:\n",
      "    https://scikit-learn.org/stable/modules/linear_model.html#logistic-regression\n",
      "  n_iter_i = _check_optimize_result(\n",
      "C:\\Users\\Samsung\\Anaconda\\lib\\site-packages\\sklearn\\linear_model\\_logistic.py:814: ConvergenceWarning: lbfgs failed to converge (status=1):\n",
      "STOP: TOTAL NO. of ITERATIONS REACHED LIMIT.\n",
      "\n",
      "Increase the number of iterations (max_iter) or scale the data as shown in:\n",
      "    https://scikit-learn.org/stable/modules/preprocessing.html\n",
      "Please also refer to the documentation for alternative solver options:\n",
      "    https://scikit-learn.org/stable/modules/linear_model.html#logistic-regression\n",
      "  n_iter_i = _check_optimize_result(\n",
      "C:\\Users\\Samsung\\Anaconda\\lib\\site-packages\\sklearn\\linear_model\\_logistic.py:814: ConvergenceWarning: lbfgs failed to converge (status=1):\n",
      "STOP: TOTAL NO. of ITERATIONS REACHED LIMIT.\n",
      "\n",
      "Increase the number of iterations (max_iter) or scale the data as shown in:\n",
      "    https://scikit-learn.org/stable/modules/preprocessing.html\n",
      "Please also refer to the documentation for alternative solver options:\n",
      "    https://scikit-learn.org/stable/modules/linear_model.html#logistic-regression\n",
      "  n_iter_i = _check_optimize_result(\n",
      "C:\\Users\\Samsung\\Anaconda\\lib\\site-packages\\sklearn\\linear_model\\_logistic.py:814: ConvergenceWarning: lbfgs failed to converge (status=1):\n",
      "STOP: TOTAL NO. of ITERATIONS REACHED LIMIT.\n",
      "\n",
      "Increase the number of iterations (max_iter) or scale the data as shown in:\n",
      "    https://scikit-learn.org/stable/modules/preprocessing.html\n",
      "Please also refer to the documentation for alternative solver options:\n",
      "    https://scikit-learn.org/stable/modules/linear_model.html#logistic-regression\n",
      "  n_iter_i = _check_optimize_result(\n",
      "C:\\Users\\Samsung\\Anaconda\\lib\\site-packages\\sklearn\\linear_model\\_logistic.py:814: ConvergenceWarning: lbfgs failed to converge (status=1):\n",
      "STOP: TOTAL NO. of ITERATIONS REACHED LIMIT.\n",
      "\n",
      "Increase the number of iterations (max_iter) or scale the data as shown in:\n",
      "    https://scikit-learn.org/stable/modules/preprocessing.html\n",
      "Please also refer to the documentation for alternative solver options:\n",
      "    https://scikit-learn.org/stable/modules/linear_model.html#logistic-regression\n",
      "  n_iter_i = _check_optimize_result(\n"
     ]
    },
    {
     "data": {
      "text/plain": [
       "[0.6287572600013396]"
      ]
     },
     "execution_count": 78,
     "metadata": {},
     "output_type": "execute_result"
    }
   ],
   "source": [
    "#  스케일링 및 모델 튜닝\n",
    "\n",
    "from sklearn.preprocessing import StandardScaler\n",
    "from sklearn.linear_model import LogisticRegression\n",
    "from xgboost import XGBClassifier\n",
    "from sklearn.model_selection import cross_val_score\n",
    "\n",
    "model = LogisticRegression()\n",
    "model.fit(X_train, y_train)\n",
    "y_hat = model.predict(X_test)\n",
    "\n",
    "lst_scores_mean = []\n",
    "\n",
    "scores = cross_val_score(model, X_train, y_train, cv=5)\n",
    "lst_scores_mean.append(np.mean(scores))\n",
    "\n",
    "\n",
    "lst_scores_mean"
   ]
  },
  {
   "cell_type": "code",
   "execution_count": 79,
   "id": "6925ce01",
   "metadata": {},
   "outputs": [
    {
     "data": {
      "text/html": [
       "<div>\n",
       "<style scoped>\n",
       "    .dataframe tbody tr th:only-of-type {\n",
       "        vertical-align: middle;\n",
       "    }\n",
       "\n",
       "    .dataframe tbody tr th {\n",
       "        vertical-align: top;\n",
       "    }\n",
       "\n",
       "    .dataframe thead th {\n",
       "        text-align: right;\n",
       "    }\n",
       "</style>\n",
       "<table border=\"1\" class=\"dataframe\">\n",
       "  <thead>\n",
       "    <tr style=\"text-align: right;\">\n",
       "      <th></th>\n",
       "      <th>성별</th>\n",
       "      <th>차유뮤</th>\n",
       "      <th>부동산유무</th>\n",
       "      <th>자녀수</th>\n",
       "      <th>연간소득</th>\n",
       "      <th>소득분류</th>\n",
       "      <th>교육</th>\n",
       "      <th>가정</th>\n",
       "      <th>집</th>\n",
       "      <th>업무용핸드폰유무</th>\n",
       "      <th>핸드폰유무</th>\n",
       "      <th>이메일유무</th>\n",
       "      <th>직업유형</th>\n",
       "      <th>가족수</th>\n",
       "      <th>나이</th>\n",
       "      <th>연차</th>\n",
       "      <th>카드발급년수</th>\n",
       "      <th>능력</th>\n",
       "      <th>가족평균수입</th>\n",
       "    </tr>\n",
       "  </thead>\n",
       "  <tbody>\n",
       "    <tr>\n",
       "      <th>15836</th>\n",
       "      <td>0</td>\n",
       "      <td>0</td>\n",
       "      <td>1</td>\n",
       "      <td>0</td>\n",
       "      <td>16.680565</td>\n",
       "      <td>2</td>\n",
       "      <td>1</td>\n",
       "      <td>1</td>\n",
       "      <td>1</td>\n",
       "      <td>0</td>\n",
       "      <td>1</td>\n",
       "      <td>0</td>\n",
       "      <td>3</td>\n",
       "      <td>2.0</td>\n",
       "      <td>51</td>\n",
       "      <td>23</td>\n",
       "      <td>3.0</td>\n",
       "      <td>4.885109</td>\n",
       "      <td>11.119898</td>\n",
       "    </tr>\n",
       "  </tbody>\n",
       "</table>\n",
       "</div>"
      ],
      "text/plain": [
       "       성별  차유뮤  부동산유무  자녀수       연간소득  소득분류  교육  가정  집  업무용핸드폰유무  핸드폰유무  \\\n",
       "15836   0    0      1    0  16.680565     2   1   1  1         0      1   \n",
       "\n",
       "       이메일유무  직업유형  가족수  나이  연차  카드발급년수        능력     가족평균수입  \n",
       "15836      0     3  2.0  51  23     3.0  4.885109  11.119898  "
      ]
     },
     "execution_count": 79,
     "metadata": {},
     "output_type": "execute_result"
    }
   ],
   "source": [
    "X_test.head(1)"
   ]
  },
  {
   "cell_type": "code",
   "execution_count": 80,
   "id": "27ad3955",
   "metadata": {},
   "outputs": [
    {
     "data": {
      "text/plain": [
       "Index(['성별', '차유뮤', '부동산유무', '자녀수', '연간소득', '소득분류', '교육', '가정', '집',\n",
       "       '업무용핸드폰유무', '핸드폰유무', '이메일유무', '직업유형', '가족수', '나이', '연차', '카드발급년수', '능력',\n",
       "       '가족평균수입'],\n",
       "      dtype='object')"
      ]
     },
     "execution_count": 80,
     "metadata": {},
     "output_type": "execute_result"
    }
   ],
   "source": [
    "X_test.columns"
   ]
  },
  {
   "cell_type": "code",
   "execution_count": 81,
   "id": "bd2ffc8f",
   "metadata": {},
   "outputs": [],
   "source": [
    "df_y_hat = pd.DataFrame(y_hat)"
   ]
  },
  {
   "cell_type": "code",
   "execution_count": 82,
   "id": "bdda6497",
   "metadata": {},
   "outputs": [
    {
     "data": {
      "text/plain": [
       "2.0    5933\n",
       "dtype: int64"
      ]
     },
     "execution_count": 82,
     "metadata": {},
     "output_type": "execute_result"
    }
   ],
   "source": [
    "df_y_hat.value_counts()"
   ]
  },
  {
   "cell_type": "code",
   "execution_count": null,
   "id": "4e6bd678",
   "metadata": {},
   "outputs": [],
   "source": []
  }
 ],
 "metadata": {
  "kernelspec": {
   "display_name": "Python 3",
   "language": "python",
   "name": "python3"
  },
  "language_info": {
   "codemirror_mode": {
    "name": "ipython",
    "version": 3
   },
   "file_extension": ".py",
   "mimetype": "text/x-python",
   "name": "python",
   "nbconvert_exporter": "python",
   "pygments_lexer": "ipython3",
   "version": "3.8.8"
  }
 },
 "nbformat": 4,
 "nbformat_minor": 5
}
